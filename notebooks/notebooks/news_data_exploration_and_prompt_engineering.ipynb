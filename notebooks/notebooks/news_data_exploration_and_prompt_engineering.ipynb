{
 "cells": [
  {
   "cell_type": "markdown",
   "metadata": {},
   "source": [
    "# Data exploration and prompt engineering"
   ]
  },
  {
   "cell_type": "code",
   "execution_count": null,
   "metadata": {
    "tags": []
   },
   "outputs": [
    {
     "name": "stderr",
     "output_type": "stream",
     "text": [
      "huggingface/tokenizers: The current process just got forked, after parallelism has already been used. Disabling parallelism to avoid deadlocks...\n",
      "To disable this warning, you can either:\n",
      "\t- Avoid using `tokenizers` before the fork if possible\n",
      "\t- Explicitly set the environment variable TOKENIZERS_PARALLELISM=(true | false)\n"
     ]
    },
    {
     "name": "stdout",
     "output_type": "stream",
     "text": [
      "Requirement already satisfied: pip in /opt/conda/lib/python3.12/site-packages (25.1.1)\n"
     ]
    }
   ],
   "source": [
    "# First upgrade pip\n",
    "%pip install --upgrade pip\n",
    "\n",
    "# Install tensorflow and keras first\n",
    "%pip install tensorflow==2.18.0 keras==3.9.0\n",
    "\n",
    "# Install torch and torchdata\n",
    "%pip install --no-deps torch==2.5.1 torchdata==0.6.0 --quiet\n",
    "\n",
    "# Then install other packages except TRL\n",
    "%pip install -U \\\n",
    "    datasets==2.17.0 \\\n",
    "    transformers==4.38.2 \\\n",
    "    evaluate==0.4.0 \\\n",
    "    rouge_score==0.1.2 \\\n",
    "    peft==0.3.0 --quiet"
   ]
  },
  {
   "cell_type": "markdown",
   "metadata": {
    "tags": []
   },
   "source": [
    "<img src=\"data:image/svg+xml;base64,Cjxzdmcgd2lkdGg9IjgwMCIgaGVpZ2h0PSI1MCIgdmlld0JveD0iMCAwIDgwMCA1MCIgeG1sbnM9Imh0dHA6Ly93d3cudzMub3JnLzIwMDAvc3ZnIj4KICAgIDxkZWZzPgogICAgICAgIDxsaW5lYXJHcmFkaWVudCBpZD0iZmFkZUdyYWRpZW50IiB4MT0iMCIgeDI9IjEiPgogICAgICAgICAgICA8c3RvcCBvZmZzZXQ9IjAlIiBzdG9wLWNvbG9yPSIjRjBGMEYwIi8+CiAgICAgICAgICAgIDxzdG9wIG9mZnNldD0iMTAwJSIgc3RvcC1jb2xvcj0iI0YwRjBGMCIgc3RvcC1vcGFjaXR5PSIwIi8+CiAgICAgICAgPC9saW5lYXJHcmFkaWVudD4KICAgICAgICA8bWFzayBpZD0iZmFkZU1hc2siPgogICAgICAgICAgICA8cmVjdCB4PSIwIiB5PSIwIiB3aWR0aD0iNzUwIiBoZWlnaHQ9IjUwIiBmaWxsPSJ3aGl0ZSIvPgogICAgICAgICAgICA8cmVjdCB4PSI3NTAiIHk9IjAiIHdpZHRoPSI1MCIgaGVpZ2h0PSI1MCIgZmlsbD0idXJsKCNmYWRlR3JhZGllbnQpIi8+CiAgICAgICAgPC9tYXNrPgogICAgPC9kZWZzPgogICAgPHBhdGggZD0iTTI1LDUwIFEwLDUwIDAsMjUgTDUwLDMgTDk3LDI1IEw3OTcsMjUgTDc5Nyw1MCBMMjUsNTAgWiIgZmlsbD0iI0YwRjBGMCIgc3Ryb2tlPSIjRTBFMEUwIiBzdHJva2Utd2lkdGg9IjEiIG1hc2s9InVybCgjZmFkZU1hc2spIi8+Cjwvc3ZnPgo=\" alt=\"Time alert close\"/>"
   ]
  },
  {
   "cell_type": "markdown",
   "metadata": {
    "tags": []
   },
   "source": [
    "Load the datasets, Large Language Model (LLM), tokenizer, and configurator. Do not worry if you do not understand yet all of those components - they will be described and discussed later in the notebook."
   ]
  },
  {
   "cell_type": "code",
   "execution_count": 3,
   "metadata": {
    "tags": []
   },
   "outputs": [],
   "source": [
    "from datasets import load_dataset\n",
    "from transformers import AutoModelForSeq2SeqLM\n",
    "from transformers import AutoTokenizer\n",
    "from transformers import GenerationConfig"
   ]
  },
  {
   "cell_type": "markdown",
   "metadata": {},
   "source": [
    "<a name='2'></a>\n",
    "## 2 - Summarize Dialogue without Prompt Engineering\n",
    "\n",
    "In this use case, you will be generating a summary of a dialogue with the pre-trained Large Language Model (LLM) FLAN-T5 from Hugging Face. The list of available models in the Hugging Face `transformers` package can be found [here](https://huggingface.co/docs/transformers/index). \n",
    "\n",
    "Let's upload some simple dialogues from the [DialogSum](https://huggingface.co/datasets/knkarthick/dialogsum) Hugging Face dataset. This dataset contains 10,000+ dialogues with the corresponding manually labeled summaries and topics. "
   ]
  },
  {
   "cell_type": "code",
   "execution_count": 31,
   "metadata": {
    "tags": []
   },
   "outputs": [
    {
     "data": {
      "application/vnd.jupyter.widget-view+json": {
       "model_id": "26e48b7ced13462e8cf2258928c75f5a",
       "version_major": 2,
       "version_minor": 0
      },
      "text/plain": [
       "Downloading data:   0%|          | 0.00/304M [00:00<?, ?B/s]"
      ]
     },
     "metadata": {},
     "output_type": "display_data"
    },
    {
     "data": {
      "application/vnd.jupyter.widget-view+json": {
       "model_id": "c3a0da89bc9d45a3927ef37134281f01",
       "version_major": 2,
       "version_minor": 0
      },
      "text/plain": [
       "Downloading data:   0%|          | 0.00/16.7M [00:00<?, ?B/s]"
      ]
     },
     "metadata": {},
     "output_type": "display_data"
    },
    {
     "data": {
      "application/vnd.jupyter.widget-view+json": {
       "model_id": "bf31e114e4b043cea94da3c83ea03769",
       "version_major": 2,
       "version_minor": 0
      },
      "text/plain": [
       "Downloading data:   0%|          | 0.00/17.0M [00:00<?, ?B/s]"
      ]
     },
     "metadata": {},
     "output_type": "display_data"
    },
    {
     "data": {
      "application/vnd.jupyter.widget-view+json": {
       "model_id": "7a1cc4c6bea944b588c855199a7a5e9d",
       "version_major": 2,
       "version_minor": 0
      },
      "text/plain": [
       "Generating train split:   0%|          | 0/204045 [00:00<?, ? examples/s]"
      ]
     },
     "metadata": {},
     "output_type": "display_data"
    },
    {
     "data": {
      "application/vnd.jupyter.widget-view+json": {
       "model_id": "a425478b43b648ada417e1add8562bca",
       "version_major": 2,
       "version_minor": 0
      },
      "text/plain": [
       "Generating validation split:   0%|          | 0/11332 [00:00<?, ? examples/s]"
      ]
     },
     "metadata": {},
     "output_type": "display_data"
    },
    {
     "data": {
      "application/vnd.jupyter.widget-view+json": {
       "model_id": "63ced865b4c142ebb4746043041a56db",
       "version_major": 2,
       "version_minor": 0
      },
      "text/plain": [
       "Generating test split:   0%|          | 0/11334 [00:00<?, ? examples/s]"
      ]
     },
     "metadata": {},
     "output_type": "display_data"
    }
   ],
   "source": [
    "# Load the dataset\n",
    "\n",
    "dataset = load_dataset(\"EdinburghNLP/xsum\")"
   ]
  },
  {
   "cell_type": "code",
   "execution_count": 32,
   "metadata": {},
   "outputs": [
    {
     "name": "stdout",
     "output_type": "stream",
     "text": [
      "Train samples: 5000, Val samples: 1000, Test samples: 500\n"
     ]
    }
   ],
   "source": [
    "# Use a small sample for training\n",
    "train_data = dataset[\"train\"].select(range(5000))  # or smaller if needed\n",
    "val_data = dataset[\"validation\"].select(range(1000))\n",
    "test_data = dataset[\"test\"].select(range(500))\n",
    "\n",
    "print(f\"Train samples: {len(train_data)}, Val samples: {len(val_data)}, Test samples: {len(test_data)}\")"
   ]
  },
  {
   "cell_type": "markdown",
   "metadata": {
    "tags": []
   },
   "source": [
    "Print a couple of dialogues with their baseline summaries."
   ]
  },
  {
   "cell_type": "code",
   "execution_count": 33,
   "metadata": {
    "tags": []
   },
   "outputs": [
    {
     "name": "stdout",
     "output_type": "stream",
     "text": [
      "---------------------------------------------------------------------------------------------------\n",
      "Example  1\n",
      "---------------------------------------------------------------------------------------------------\n",
      "INPUT ARTICLE:\n",
      "Simone Favaro got the crucial try with the last move of the game, following earlier touchdowns by Chris Fusaro, Zander Fagerson and Junior Bulumakau.\n",
      "Rynard Landman and Ashton Hewitt got a try in either half for the Dragons.\n",
      "Glasgow showed far superior strength in depth as they took control of a messy match in the second period.\n",
      "Home coach Gregor Townsend gave a debut to powerhouse Fijian-born Wallaby wing Taqele Naiyaravoro, and centre Alex Dunbar returned from long-term injury, while the Dragons gave first starts of the season to wing Aled Brew and hooker Elliot Dee.\n",
      "Glasgow lost hooker Pat McArthur to an early shoulder injury but took advantage of their first pressure when Rory Clegg slotted over a penalty on 12 minutes.\n",
      "It took 24 minutes for a disjointed game to produce a try as Sarel Pretorius sniped from close range and Landman forced his way over for Jason Tovey to convert - although it was the lock's last contribution as he departed with a chest injury shortly afterwards.\n",
      "Glasgow struck back when Fusaro drove over from a rolling maul on 35 minutes for Clegg to convert.\n",
      "But the Dragons levelled at 10-10 before half-time when Naiyaravoro was yellow-carded for an aerial tackle on Brew and Tovey slotted the easy goal.\n",
      "The visitors could not make the most of their one-man advantage after the break as their error count cost them dearly.\n",
      "It was Glasgow's bench experience that showed when Mike Blair's break led to a short-range score from teenage prop Fagerson, converted by Clegg.\n",
      "Debutant Favaro was the second home player to be sin-binned, on 63 minutes, but again the Warriors made light of it as replacement wing Bulumakau, a recruit from the Army, pounced to deftly hack through a bouncing ball for an opportunist try.\n",
      "The Dragons got back within striking range with some excellent combined handling putting Hewitt over unopposed after 72 minutes.\n",
      "However, Favaro became sinner-turned-saint as he got on the end of another effective rolling maul to earn his side the extra point with the last move of the game, Clegg converting.\n",
      "Dragons director of rugby Lyn Jones said: \"We're disappointed to have lost but our performance was a lot better [than against Leinster] and the game could have gone either way.\n",
      "\"Unfortunately too many errors behind the scrum cost us a great deal, though from where we were a fortnight ago in Dublin our workrate and desire was excellent.\n",
      "\"It was simply error count from individuals behind the scrum that cost us field position, it's not rocket science - they were correct in how they played and we had a few errors, that was the difference.\"\n",
      "Glasgow Warriors: Rory Hughes, Taqele Naiyaravoro, Alex Dunbar, Fraser Lyle, Lee Jones, Rory Clegg, Grayson Hart; Alex Allan, Pat MacArthur, Zander Fagerson, Rob Harley (capt), Scott Cummings, Hugh Blake, Chris Fusaro, Adam Ashe.\n",
      "Replacements: Fergus Scott, Jerry Yanuyanutawa, Mike Cusack, Greg Peterson, Simone Favaro, Mike Blair, Gregor Hunter, Junior Bulumakau.\n",
      "Dragons: Carl Meyer, Ashton Hewitt, Ross Wardle, Adam Warren, Aled Brew, Jason Tovey, Sarel Pretorius; Boris Stankovich, Elliot Dee, Brok Harris, Nick Crosswell, Rynard Landman (capt), Lewis Evans, Nic Cudd, Ed Jackson.\n",
      "Replacements: Rhys Buckley, Phil Price, Shaun Knight, Matthew Screech, Ollie Griffiths, Luc Jones, Charlie Davies, Nick Scott.\n",
      "---------------------------------------------------------------------------------------------------\n",
      "BASELINE HUMAN SUMMARY/HIGHLIGHTS:\n",
      "Defending Pro12 champions Glasgow Warriors bagged a late bonus-point victory over the Dragons despite a host of absentees and two yellow cards.\n",
      "---------------------------------------------------------------------------------------------------\n",
      "\n",
      "---------------------------------------------------------------------------------------------------\n",
      "Example  2\n",
      "---------------------------------------------------------------------------------------------------\n",
      "INPUT ARTICLE:\n",
      "The decision comes after 170,000 activists from around the world demanded action to help lesbians targeted for \"corrective rape\".\n",
      "The authorities have been accused of not doing enough following the recent killing and rape of lesbian activist Noxolo Nogwaza.\n",
      "Police say they do not consider sexual orientation when investigating murder.\n",
      "\"To us, murder is murder, whether somebody is Zulu, English, male or female - we don't see colour, we don't see gender,\" police ministry spokesman Zweli Mnisi told the BBC on Tuesday, after rights groups urged the police to do more to find those responsible Ms Nogwaza's death.\n",
      "She was stoned, stabbed and gang-raped in the KwaThema township east of Johannesburg over the Easter weekend.\n",
      "Unlike in many African countries, homosexual acts are legal in South Africa and discrimination based on sexual orientation is banned, but activists say gay and lesbian people are often attacked in townships.\n",
      "They say \"corrective rape\" - when a lesbian is raped to either punish her, or \"correct\" her behaviour - is becoming increasingly common.\n",
      "Ndumie Funda, founder of the gay rights organisation Luleki Sizwe which works in 10 black townships and rural areas near Cape Town, welcomed the government's announcement.\n",
      "She said it was important to get \"corrective rape\" classified as a hate crime.\n",
      "\"The South African constitution is one of the highly respected and acknowledged constitutions and it says we are all equal; we're therefore reminding our government to say that this was being promised and we voted for you so we need protection,\" she told the BBC's Network Africa programme.\n",
      "Luleki Sizwe started an online petition at Change.org to get the government to take action.\n",
      "\"In less than six months, a tiny group of township activists has mobilised more than 170,000 people from 163 countries and gotten the highest levels of government to address their basic demand, that the sadistic crime of 'corrective rape' be taken seriously,\" Change.org representative Benjamin Joffe-Walt is quoted by the Sapa news agency as saying.\n",
      "Justice ministry spokesman Tlali Tlali said the the task team would begin its work in July and include six representatives from the judiciary, police and department of social development and six representatives from the gay community.\n",
      "\"The team will be charged with developing a legislative intervention plan, a public awareness strategy, and LGBTI [lesbian, gay, bisexual, transgender and intersex]-sensitive shelters,\" he said.\n",
      "In 2008, female footballer and gay rights activist Eudy Simelane was also killed in KwaThema, some 80km (50 miles) east of Johannesburg.\n",
      "Two people were given long prison terms for her murder and rape, although prosecutors denied that her sexuality had been a motive.\n",
      "---------------------------------------------------------------------------------------------------\n",
      "BASELINE HUMAN SUMMARY/HIGHLIGHTS:\n",
      "South Africa is to set up a team to tackle hate crimes against gay people, the justice ministry says.\n",
      "---------------------------------------------------------------------------------------------------\n",
      "\n",
      "---------------------------------------------------------------------------------------------------\n",
      "Example  3\n",
      "---------------------------------------------------------------------------------------------------\n",
      "INPUT ARTICLE:\n",
      "Spurs boss Mauricio Pochettino said the 20-year-old would be out for \"a few weeks\" after leaving him out of his squad to play Arsenal on Sunday.\n",
      "Pochettino said Alli \"twisted his knee in a clash with a team-mate\".\n",
      "England play Scotland on Friday and Spain the following Tuesday at Wembley.\n",
      "\"I hope it is not a big issue, it's bad luck, he's an important player for us,\" Pochettino added.\n",
      "\"He will be out for a few weeks. We need to assess him today, tomorrow. That is football and sometimes it happens.\"\n",
      "---------------------------------------------------------------------------------------------------\n",
      "BASELINE HUMAN SUMMARY/HIGHLIGHTS:\n",
      "Tottenham midfielder Dele Alli has been ruled out of England's World Cup qualifier with Scotland and friendly against Spain after suffering a knee injury in training.\n",
      "---------------------------------------------------------------------------------------------------\n",
      "\n"
     ]
    }
   ],
   "source": [
    "example_indices = [5, 20, 25]\n",
    "\n",
    "dash_line = '-'.join('' for x in range(100))\n",
    "\n",
    "for i, index in enumerate(example_indices):\n",
    "    print(dash_line)\n",
    "    print('Example ', i + 1)\n",
    "    print(dash_line)\n",
    "    print('INPUT ARTICLE:')\n",
    "    print(dataset['train'][index]['document'])\n",
    "    print(dash_line)\n",
    "    print('BASELINE HUMAN SUMMARY/HIGHLIGHTS:')\n",
    "    print(dataset['train'][index]['summary'])\n",
    "    print(dash_line)\n",
    "    print()"
   ]
  },
  {
   "cell_type": "markdown",
   "metadata": {},
   "source": [
    "Load the [FLAN-T5 model](https://huggingface.co/docs/transformers/model_doc/flan-t5), creating an instance of the `AutoModelForSeq2SeqLM` class with the `.from_pretrained()` method. "
   ]
  },
  {
   "cell_type": "code",
   "execution_count": 34,
   "metadata": {
    "id": "iAYlS40Z3l-v",
    "tags": []
   },
   "outputs": [
    {
     "name": "stderr",
     "output_type": "stream",
     "text": [
      "/opt/conda/lib/python3.12/site-packages/huggingface_hub/file_download.py:797: FutureWarning: `resume_download` is deprecated and will be removed in version 1.0.0. Downloads always resume when possible. If you want to force a new download, use `force_download=True`.\n",
      "  warnings.warn(\n"
     ]
    }
   ],
   "source": [
    "model_name='google/flan-t5-small'\n",
    "\n",
    "model = AutoModelForSeq2SeqLM.from_pretrained(model_name)"
   ]
  },
  {
   "cell_type": "markdown",
   "metadata": {
    "id": "sPqQA3TT3l_I",
    "tags": []
   },
   "source": [
    "To perform encoding and decoding, you need to work with text in a tokenized form. **Tokenization** is the process of splitting texts into smaller units that can be processed by the LLM models. \n",
    "\n",
    "Download the tokenizer for the FLAN-T5 model using `AutoTokenizer.from_pretrained()` method. Parameter `use_fast` switches on fast tokenizer. At this stage, there is no need to go into the details of that, but you can find the tokenizer parameters in the [documentation](https://huggingface.co/docs/transformers/v4.28.1/en/model_doc/auto#transformers.AutoTokenizer)."
   ]
  },
  {
   "cell_type": "code",
   "execution_count": 12,
   "metadata": {
    "id": "sPqQA3TT3l_I",
    "tags": []
   },
   "outputs": [
    {
     "data": {
      "application/vnd.jupyter.widget-view+json": {
       "model_id": "f97b4462121746c89d00379dfbf6d7b0",
       "version_major": 2,
       "version_minor": 0
      },
      "text/plain": [
       "tokenizer_config.json:   0%|          | 0.00/2.54k [00:00<?, ?B/s]"
      ]
     },
     "metadata": {},
     "output_type": "display_data"
    },
    {
     "data": {
      "application/vnd.jupyter.widget-view+json": {
       "model_id": "66b00e7ff2ff4d7db3b95a40375863bd",
       "version_major": 2,
       "version_minor": 0
      },
      "text/plain": [
       "spiece.model:   0%|          | 0.00/792k [00:00<?, ?B/s]"
      ]
     },
     "metadata": {},
     "output_type": "display_data"
    },
    {
     "data": {
      "application/vnd.jupyter.widget-view+json": {
       "model_id": "0cf11b73e4104d16836e166af6edf800",
       "version_major": 2,
       "version_minor": 0
      },
      "text/plain": [
       "tokenizer.json:   0%|          | 0.00/2.42M [00:00<?, ?B/s]"
      ]
     },
     "metadata": {},
     "output_type": "display_data"
    },
    {
     "data": {
      "application/vnd.jupyter.widget-view+json": {
       "model_id": "faee49958f7a451f9a16f20b40c49eb6",
       "version_major": 2,
       "version_minor": 0
      },
      "text/plain": [
       "special_tokens_map.json:   0%|          | 0.00/2.20k [00:00<?, ?B/s]"
      ]
     },
     "metadata": {},
     "output_type": "display_data"
    }
   ],
   "source": [
    "tokenizer = AutoTokenizer.from_pretrained(model_name, use_fast=True)"
   ]
  },
  {
   "cell_type": "markdown",
   "metadata": {
    "tags": []
   },
   "source": [
    "Test the tokenizer encoding and decoding a simple sentence:"
   ]
  },
  {
   "cell_type": "code",
   "execution_count": 38,
   "metadata": {
    "tags": []
   },
   "outputs": [
    {
     "name": "stdout",
     "output_type": "stream",
     "text": [
      "---------------------------------------------------------------------------------------------------\n",
      "Example  1\n",
      "---------------------------------------------------------------------------------------------------\n",
      "INPUT PROMPT:\n",
      "(CNN)Just as mimeograph machines and photocopiers were in their day, online activity -- blogs, YouTube channels, even social media platforms like Facebook and Twitter -- have fully emerged as the alternative to traditional mainstream media. It is not just the low cost of posting online that attracts dissidence, though that in itself is liberating. It is the lack of access to traditional print and broadcast media in authoritarian countries that is really the driving force leading disaffected voices to post online. It is not unique to Asia, but it might seem more pronounced if you live there. Going online has become the path of least resistance if you want to make yourself heard. But it still brings resistance, some of it legal, some of it deadly. Let's look at the legal angle first. Amos Yee, the teenage video blogger who was arrested and held pending bail Sunday in Singapore, drew international attention for his anti-Lee Kuan Yew harangue. But jailing critics is not usually the government's first choice in Singapore. It is part of Lee Kuan Yew's legacy that the government's use of the courts to bring libel and defamation cases, usually carrying heavy financial penalties, is the preferred method of silencing discomfiting online voices. His father has reportedly apologized for his son's behavior, but the younger Yee could face up to three years in jail. Yee is not unique. Another dissident blogger in Singapore, Roy Ngerng, continues to suffer financial and legal pressure, including the loss of his job, because of a blog post that allegedly accused the city-state's Prime Minister, Lee Hsien Loong, of corruption. Ngerng's concern is with the lack of transparency in the management of the Central Provident Fund, the government's compulsory pension program. Yee and Ngerng are two of many. The Committee To Protect Journalists' file on Singapore going back to 2000 has a long string of similar cases, some against politicians, others against citizens simply frustrated with their government. But it is not just Singapore where Internet activity comes under fire: On Monday in Malaysia, with much less of the international attention heaped on Amos Yee, five editors and executives from The Malaysian Insider were arrested over the site's March 25 report claiming that a senior council of royal rulers and state governors, known as the Conference of Rulers, had rejected a proposal to amend federal law to allow for the introduction of hudud, or punishments meted out under Islamic law. In deeply Muslim Malaysia, questions of Islamic faith are a third-rail issue, as is revealing government decisions before they are announced. By far the biggest jailer of journalists in the world is China, where a majority of the 44 people behind bars at the end of 2014 were bloggers, most of them Uighur or Tibetan activists who straddle the line between journalism and activism. But in second place in Asia is Vietnam, where CPJ's most recent prison census showed Vietnam holding 16 reporters behind bars as of December 1. Add one more in late December, Nguyen Dinh Ngoc, a prominent blogger who was arrested for \"law-violating\" after police searched his home in southern Ho Chi Minh City on December 27, and two more in January, Nguyen Quang Lap and Hong Le Tho, arrested on anti-state charges of \"abusing democratic freedoms\" and you can see the pattern. Because the print and broadcast media are so totally government controlled, mainstream journalists seldom go to jail any more in Vietnam. Only two investigative print reporters remain behind bars in Vietnam, their cases dating back to 2012 and 2013. Both were accused of accepting bribes for dialing back critical news coverage. The list could go on, but the reality is that, as CPJ wrote in 2013, across Asia \"governments have curtailed Internet freedoms through increasingly restrictive practices, including prohibitive laws, heightened surveillance and censorship, and threats of imprisonment on various national security-related offenses.\" That is still the policy path being followed by most countries in Asia, and it does not look like it will be changing any time soon. Jailing journalists is one thing, but watching them being killed and doing little or nothing about it is another. Since 1992, 11% of journalists killed have died for their work online. Because our 1992 start date really precedes the full advent of the Internet, that proportion can be expected to grow. While most bloggers have not been the targets of murderers, Bangladesh has recently become the exception. On Monday, Washiqur Rahman Babu was the second blogger to be hacked to death in public in Bangladesh in the past five weeks. Blogger Avijit Roy and his wife, Rafida Ahmed Bonna, were attacked by assailants wielding sharp weapons while the couple was visiting Dhaka. Roy, a U.S. citizen of Bangladeshi origin, was killed and his wife was critically injured. Both Rahman and Roy had written critically on Islamic matters. The blogger death toll gets higher in Bangladesh if you go back a year or two, and religious beliefs are always involved, and the killings almost always carried out with near perfect impunity. In January 2013, blogger Asif Mohiuddin, who wrote critical commentary on religion, Islamist groups, free speech, and human rights, barely survived after he was stabbed by Islamists. In February 2013, blogger Ahmed Rajib Haider, who had written about Islamic fundamentalism and Islamist groups, was hacked to death by members of an Islamist militant group, according to police investigations. Later in 2013, Islamist groups called for the execution of bloggers they said had committed blasphemy. While arrests were made after those murders, there have been no convictions. The bottom line: Online journalists, operating outside the restraints of mainstream media, have become the most vulnerable targets for governments and independent actors. Where there is the restrictive rule of law, journalists are vulnerable to the anger of officialdom. Where the rule of law is weak, they are vulnerable to the attacks of killers who seldom, if ever, answer to the rule of law.\n",
      "---------------------------------------------------------------------------------------------------\n",
      "BASELINE HUMAN SUMMARY/HIGHLIGHTS:\n",
      "Defending Pro12 champions Glasgow Warriors bagged a late bonus-point victory over the Dragons despite a host of absentees and two yellow cards.\n",
      "---------------------------------------------------------------------------------------------------\n",
      "MODEL GENERATION - WITHOUT PROMPT ENGINEERING:\n",
      "Glasgow Warriors beat Leinster 2-1 to reach the top of the Scottish Premiership.\n",
      "\n",
      "---------------------------------------------------------------------------------------------------\n",
      "Example  2\n",
      "---------------------------------------------------------------------------------------------------\n",
      "INPUT PROMPT:\n",
      "(CNN)Just as mimeograph machines and photocopiers were in their day, online activity -- blogs, YouTube channels, even social media platforms like Facebook and Twitter -- have fully emerged as the alternative to traditional mainstream media. It is not just the low cost of posting online that attracts dissidence, though that in itself is liberating. It is the lack of access to traditional print and broadcast media in authoritarian countries that is really the driving force leading disaffected voices to post online. It is not unique to Asia, but it might seem more pronounced if you live there. Going online has become the path of least resistance if you want to make yourself heard. But it still brings resistance, some of it legal, some of it deadly. Let's look at the legal angle first. Amos Yee, the teenage video blogger who was arrested and held pending bail Sunday in Singapore, drew international attention for his anti-Lee Kuan Yew harangue. But jailing critics is not usually the government's first choice in Singapore. It is part of Lee Kuan Yew's legacy that the government's use of the courts to bring libel and defamation cases, usually carrying heavy financial penalties, is the preferred method of silencing discomfiting online voices. His father has reportedly apologized for his son's behavior, but the younger Yee could face up to three years in jail. Yee is not unique. Another dissident blogger in Singapore, Roy Ngerng, continues to suffer financial and legal pressure, including the loss of his job, because of a blog post that allegedly accused the city-state's Prime Minister, Lee Hsien Loong, of corruption. Ngerng's concern is with the lack of transparency in the management of the Central Provident Fund, the government's compulsory pension program. Yee and Ngerng are two of many. The Committee To Protect Journalists' file on Singapore going back to 2000 has a long string of similar cases, some against politicians, others against citizens simply frustrated with their government. But it is not just Singapore where Internet activity comes under fire: On Monday in Malaysia, with much less of the international attention heaped on Amos Yee, five editors and executives from The Malaysian Insider were arrested over the site's March 25 report claiming that a senior council of royal rulers and state governors, known as the Conference of Rulers, had rejected a proposal to amend federal law to allow for the introduction of hudud, or punishments meted out under Islamic law. In deeply Muslim Malaysia, questions of Islamic faith are a third-rail issue, as is revealing government decisions before they are announced. By far the biggest jailer of journalists in the world is China, where a majority of the 44 people behind bars at the end of 2014 were bloggers, most of them Uighur or Tibetan activists who straddle the line between journalism and activism. But in second place in Asia is Vietnam, where CPJ's most recent prison census showed Vietnam holding 16 reporters behind bars as of December 1. Add one more in late December, Nguyen Dinh Ngoc, a prominent blogger who was arrested for \"law-violating\" after police searched his home in southern Ho Chi Minh City on December 27, and two more in January, Nguyen Quang Lap and Hong Le Tho, arrested on anti-state charges of \"abusing democratic freedoms\" and you can see the pattern. Because the print and broadcast media are so totally government controlled, mainstream journalists seldom go to jail any more in Vietnam. Only two investigative print reporters remain behind bars in Vietnam, their cases dating back to 2012 and 2013. Both were accused of accepting bribes for dialing back critical news coverage. The list could go on, but the reality is that, as CPJ wrote in 2013, across Asia \"governments have curtailed Internet freedoms through increasingly restrictive practices, including prohibitive laws, heightened surveillance and censorship, and threats of imprisonment on various national security-related offenses.\" That is still the policy path being followed by most countries in Asia, and it does not look like it will be changing any time soon. Jailing journalists is one thing, but watching them being killed and doing little or nothing about it is another. Since 1992, 11% of journalists killed have died for their work online. Because our 1992 start date really precedes the full advent of the Internet, that proportion can be expected to grow. While most bloggers have not been the targets of murderers, Bangladesh has recently become the exception. On Monday, Washiqur Rahman Babu was the second blogger to be hacked to death in public in Bangladesh in the past five weeks. Blogger Avijit Roy and his wife, Rafida Ahmed Bonna, were attacked by assailants wielding sharp weapons while the couple was visiting Dhaka. Roy, a U.S. citizen of Bangladeshi origin, was killed and his wife was critically injured. Both Rahman and Roy had written critically on Islamic matters. The blogger death toll gets higher in Bangladesh if you go back a year or two, and religious beliefs are always involved, and the killings almost always carried out with near perfect impunity. In January 2013, blogger Asif Mohiuddin, who wrote critical commentary on religion, Islamist groups, free speech, and human rights, barely survived after he was stabbed by Islamists. In February 2013, blogger Ahmed Rajib Haider, who had written about Islamic fundamentalism and Islamist groups, was hacked to death by members of an Islamist militant group, according to police investigations. Later in 2013, Islamist groups called for the execution of bloggers they said had committed blasphemy. While arrests were made after those murders, there have been no convictions. The bottom line: Online journalists, operating outside the restraints of mainstream media, have become the most vulnerable targets for governments and independent actors. Where there is the restrictive rule of law, journalists are vulnerable to the anger of officialdom. Where the rule of law is weak, they are vulnerable to the attacks of killers who seldom, if ever, answer to the rule of law.\n",
      "---------------------------------------------------------------------------------------------------\n",
      "BASELINE HUMAN SUMMARY/HIGHLIGHTS:\n",
      "South Africa is to set up a team to tackle hate crimes against gay people, the justice ministry says.\n",
      "---------------------------------------------------------------------------------------------------\n",
      "MODEL GENERATION - WITHOUT PROMPT ENGINEERING:\n",
      "South African authorities have ruled out a \"corrective rape\" in the death of a lesbian activist in Johannesburg.\n",
      "\n",
      "---------------------------------------------------------------------------------------------------\n",
      "Example  3\n",
      "---------------------------------------------------------------------------------------------------\n",
      "INPUT PROMPT:\n",
      "(CNN)Just as mimeograph machines and photocopiers were in their day, online activity -- blogs, YouTube channels, even social media platforms like Facebook and Twitter -- have fully emerged as the alternative to traditional mainstream media. It is not just the low cost of posting online that attracts dissidence, though that in itself is liberating. It is the lack of access to traditional print and broadcast media in authoritarian countries that is really the driving force leading disaffected voices to post online. It is not unique to Asia, but it might seem more pronounced if you live there. Going online has become the path of least resistance if you want to make yourself heard. But it still brings resistance, some of it legal, some of it deadly. Let's look at the legal angle first. Amos Yee, the teenage video blogger who was arrested and held pending bail Sunday in Singapore, drew international attention for his anti-Lee Kuan Yew harangue. But jailing critics is not usually the government's first choice in Singapore. It is part of Lee Kuan Yew's legacy that the government's use of the courts to bring libel and defamation cases, usually carrying heavy financial penalties, is the preferred method of silencing discomfiting online voices. His father has reportedly apologized for his son's behavior, but the younger Yee could face up to three years in jail. Yee is not unique. Another dissident blogger in Singapore, Roy Ngerng, continues to suffer financial and legal pressure, including the loss of his job, because of a blog post that allegedly accused the city-state's Prime Minister, Lee Hsien Loong, of corruption. Ngerng's concern is with the lack of transparency in the management of the Central Provident Fund, the government's compulsory pension program. Yee and Ngerng are two of many. The Committee To Protect Journalists' file on Singapore going back to 2000 has a long string of similar cases, some against politicians, others against citizens simply frustrated with their government. But it is not just Singapore where Internet activity comes under fire: On Monday in Malaysia, with much less of the international attention heaped on Amos Yee, five editors and executives from The Malaysian Insider were arrested over the site's March 25 report claiming that a senior council of royal rulers and state governors, known as the Conference of Rulers, had rejected a proposal to amend federal law to allow for the introduction of hudud, or punishments meted out under Islamic law. In deeply Muslim Malaysia, questions of Islamic faith are a third-rail issue, as is revealing government decisions before they are announced. By far the biggest jailer of journalists in the world is China, where a majority of the 44 people behind bars at the end of 2014 were bloggers, most of them Uighur or Tibetan activists who straddle the line between journalism and activism. But in second place in Asia is Vietnam, where CPJ's most recent prison census showed Vietnam holding 16 reporters behind bars as of December 1. Add one more in late December, Nguyen Dinh Ngoc, a prominent blogger who was arrested for \"law-violating\" after police searched his home in southern Ho Chi Minh City on December 27, and two more in January, Nguyen Quang Lap and Hong Le Tho, arrested on anti-state charges of \"abusing democratic freedoms\" and you can see the pattern. Because the print and broadcast media are so totally government controlled, mainstream journalists seldom go to jail any more in Vietnam. Only two investigative print reporters remain behind bars in Vietnam, their cases dating back to 2012 and 2013. Both were accused of accepting bribes for dialing back critical news coverage. The list could go on, but the reality is that, as CPJ wrote in 2013, across Asia \"governments have curtailed Internet freedoms through increasingly restrictive practices, including prohibitive laws, heightened surveillance and censorship, and threats of imprisonment on various national security-related offenses.\" That is still the policy path being followed by most countries in Asia, and it does not look like it will be changing any time soon. Jailing journalists is one thing, but watching them being killed and doing little or nothing about it is another. Since 1992, 11% of journalists killed have died for their work online. Because our 1992 start date really precedes the full advent of the Internet, that proportion can be expected to grow. While most bloggers have not been the targets of murderers, Bangladesh has recently become the exception. On Monday, Washiqur Rahman Babu was the second blogger to be hacked to death in public in Bangladesh in the past five weeks. Blogger Avijit Roy and his wife, Rafida Ahmed Bonna, were attacked by assailants wielding sharp weapons while the couple was visiting Dhaka. Roy, a U.S. citizen of Bangladeshi origin, was killed and his wife was critically injured. Both Rahman and Roy had written critically on Islamic matters. The blogger death toll gets higher in Bangladesh if you go back a year or two, and religious beliefs are always involved, and the killings almost always carried out with near perfect impunity. In January 2013, blogger Asif Mohiuddin, who wrote critical commentary on religion, Islamist groups, free speech, and human rights, barely survived after he was stabbed by Islamists. In February 2013, blogger Ahmed Rajib Haider, who had written about Islamic fundamentalism and Islamist groups, was hacked to death by members of an Islamist militant group, according to police investigations. Later in 2013, Islamist groups called for the execution of bloggers they said had committed blasphemy. While arrests were made after those murders, there have been no convictions. The bottom line: Online journalists, operating outside the restraints of mainstream media, have become the most vulnerable targets for governments and independent actors. Where there is the restrictive rule of law, journalists are vulnerable to the anger of officialdom. Where the rule of law is weak, they are vulnerable to the attacks of killers who seldom, if ever, answer to the rule of law.\n",
      "---------------------------------------------------------------------------------------------------\n",
      "BASELINE HUMAN SUMMARY/HIGHLIGHTS:\n",
      "Tottenham midfielder Dele Alli has been ruled out of England's World Cup qualifier with Scotland and friendly against Spain after suffering a knee injury in training.\n",
      "---------------------------------------------------------------------------------------------------\n",
      "MODEL GENERATION - WITHOUT PROMPT ENGINEERING:\n",
      "England striker Alli Alli has been out for a few weeks after leaving the club to play Scotland.\n",
      "\n"
     ]
    }
   ],
   "source": [
    "for i, index in enumerate(example_indices):\n",
    "    document = dataset['train'][index]['document']\n",
    "    summary = dataset['train'][index]['summary']\n",
    "    \n",
    "    inputs = tokenizer(document, return_tensors='pt')\n",
    "    output = tokenizer.decode(\n",
    "        model.generate(\n",
    "            inputs[\"input_ids\"], \n",
    "            max_new_tokens=50,\n",
    "        )[0], \n",
    "        skip_special_tokens=True\n",
    "    )\n",
    "    \n",
    "    print(dash_line)\n",
    "    print('Example ', i + 1)\n",
    "    print(dash_line)\n",
    "    print(f'INPUT PROMPT:\\n{dialogue}')\n",
    "    print(dash_line)\n",
    "    print(f'BASELINE HUMAN SUMMARY/HIGHLIGHTS:\\n{summary}')\n",
    "    print(dash_line)\n",
    "    print(f'MODEL GENERATION - WITHOUT PROMPT ENGINEERING:\\n{output}\\n')"
   ]
  },
  {
   "cell_type": "markdown",
   "metadata": {},
   "source": [
    "You can see that the guesses of the model make some sense, but it doesn't seem to be sure what task it is supposed to accomplish. Seems it just makes up the next sentence in the dialogue. Prompt engineering can help here."
   ]
  },
  {
   "cell_type": "markdown",
   "metadata": {},
   "source": [
    "<a name='3'></a>\n",
    "## 3 - Summarize Dialogue with an Instruction Prompt\n"
   ]
  },
  {
   "cell_type": "markdown",
   "metadata": {},
   "source": [
    "<a name='3.1'></a>\n",
    "### 3.1 - Zero Shot Inference with an Instruction Prompt\n"
   ]
  },
  {
   "cell_type": "code",
   "execution_count": 42,
   "metadata": {
    "scrolled": true,
    "tags": []
   },
   "outputs": [
    {
     "name": "stdout",
     "output_type": "stream",
     "text": [
      "---------------------------------------------------------------------------------------------------\n",
      "Example  1\n",
      "---------------------------------------------------------------------------------------------------\n",
      "INPUT PROMPT:\n",
      "\n",
      "Summarise the following document.\n",
      "Simone Favaro got the crucial try with the last move of the game, following earlier touchdowns by Chris Fusaro, Zander Fagerson and Junior Bulumakau.\n",
      "Rynard Landman and Ashton Hewitt got a try in either half for the Dragons.\n",
      "Glasgow showed far superior strength in depth as they took control of a messy match in the second period.\n",
      "Home coach Gregor Townsend gave a debut to powerhouse Fijian-born Wallaby wing Taqele Naiyaravoro, and centre Alex Dunbar returned from long-term injury, while the Dragons gave first starts of the season to wing Aled Brew and hooker Elliot Dee.\n",
      "Glasgow lost hooker Pat McArthur to an early shoulder injury but took advantage of their first pressure when Rory Clegg slotted over a penalty on 12 minutes.\n",
      "It took 24 minutes for a disjointed game to produce a try as Sarel Pretorius sniped from close range and Landman forced his way over for Jason Tovey to convert - although it was the lock's last contribution as he departed with a chest injury shortly afterwards.\n",
      "Glasgow struck back when Fusaro drove over from a rolling maul on 35 minutes for Clegg to convert.\n",
      "But the Dragons levelled at 10-10 before half-time when Naiyaravoro was yellow-carded for an aerial tackle on Brew and Tovey slotted the easy goal.\n",
      "The visitors could not make the most of their one-man advantage after the break as their error count cost them dearly.\n",
      "It was Glasgow's bench experience that showed when Mike Blair's break led to a short-range score from teenage prop Fagerson, converted by Clegg.\n",
      "Debutant Favaro was the second home player to be sin-binned, on 63 minutes, but again the Warriors made light of it as replacement wing Bulumakau, a recruit from the Army, pounced to deftly hack through a bouncing ball for an opportunist try.\n",
      "The Dragons got back within striking range with some excellent combined handling putting Hewitt over unopposed after 72 minutes.\n",
      "However, Favaro became sinner-turned-saint as he got on the end of another effective rolling maul to earn his side the extra point with the last move of the game, Clegg converting.\n",
      "Dragons director of rugby Lyn Jones said: \"We're disappointed to have lost but our performance was a lot better [than against Leinster] and the game could have gone either way.\n",
      "\"Unfortunately too many errors behind the scrum cost us a great deal, though from where we were a fortnight ago in Dublin our workrate and desire was excellent.\n",
      "\"It was simply error count from individuals behind the scrum that cost us field position, it's not rocket science - they were correct in how they played and we had a few errors, that was the difference.\"\n",
      "Glasgow Warriors: Rory Hughes, Taqele Naiyaravoro, Alex Dunbar, Fraser Lyle, Lee Jones, Rory Clegg, Grayson Hart; Alex Allan, Pat MacArthur, Zander Fagerson, Rob Harley (capt), Scott Cummings, Hugh Blake, Chris Fusaro, Adam Ashe.\n",
      "Replacements: Fergus Scott, Jerry Yanuyanutawa, Mike Cusack, Greg Peterson, Simone Favaro, Mike Blair, Gregor Hunter, Junior Bulumakau.\n",
      "Dragons: Carl Meyer, Ashton Hewitt, Ross Wardle, Adam Warren, Aled Brew, Jason Tovey, Sarel Pretorius; Boris Stankovich, Elliot Dee, Brok Harris, Nick Crosswell, Rynard Landman (capt), Lewis Evans, Nic Cudd, Ed Jackson.\n",
      "Replacements: Rhys Buckley, Phil Price, Shaun Knight, Matthew Screech, Ollie Griffiths, Luc Jones, Charlie Davies, Nick Scott.\n",
      "\n",
      "Summary:\n",
      "    \n",
      "---------------------------------------------------------------------------------------------------\n",
      "BASELINE HUMAN SUMMARY:\n",
      "Defending Pro12 champions Glasgow Warriors bagged a late bonus-point victory over the Dragons despite a host of absentees and two yellow cards.\n",
      "---------------------------------------------------------------------------------------------------\n",
      "MODEL GENERATION - ZERO SHOT:\n",
      "Glasgow Warriors re-claimed their first win of the season as they beat Leinster 2-1 in Dublin.\n",
      "\n",
      "---------------------------------------------------------------------------------------------------\n",
      "Example  2\n",
      "---------------------------------------------------------------------------------------------------\n",
      "INPUT PROMPT:\n",
      "\n",
      "Summarise the following document.\n",
      "The decision comes after 170,000 activists from around the world demanded action to help lesbians targeted for \"corrective rape\".\n",
      "The authorities have been accused of not doing enough following the recent killing and rape of lesbian activist Noxolo Nogwaza.\n",
      "Police say they do not consider sexual orientation when investigating murder.\n",
      "\"To us, murder is murder, whether somebody is Zulu, English, male or female - we don't see colour, we don't see gender,\" police ministry spokesman Zweli Mnisi told the BBC on Tuesday, after rights groups urged the police to do more to find those responsible Ms Nogwaza's death.\n",
      "She was stoned, stabbed and gang-raped in the KwaThema township east of Johannesburg over the Easter weekend.\n",
      "Unlike in many African countries, homosexual acts are legal in South Africa and discrimination based on sexual orientation is banned, but activists say gay and lesbian people are often attacked in townships.\n",
      "They say \"corrective rape\" - when a lesbian is raped to either punish her, or \"correct\" her behaviour - is becoming increasingly common.\n",
      "Ndumie Funda, founder of the gay rights organisation Luleki Sizwe which works in 10 black townships and rural areas near Cape Town, welcomed the government's announcement.\n",
      "She said it was important to get \"corrective rape\" classified as a hate crime.\n",
      "\"The South African constitution is one of the highly respected and acknowledged constitutions and it says we are all equal; we're therefore reminding our government to say that this was being promised and we voted for you so we need protection,\" she told the BBC's Network Africa programme.\n",
      "Luleki Sizwe started an online petition at Change.org to get the government to take action.\n",
      "\"In less than six months, a tiny group of township activists has mobilised more than 170,000 people from 163 countries and gotten the highest levels of government to address their basic demand, that the sadistic crime of 'corrective rape' be taken seriously,\" Change.org representative Benjamin Joffe-Walt is quoted by the Sapa news agency as saying.\n",
      "Justice ministry spokesman Tlali Tlali said the the task team would begin its work in July and include six representatives from the judiciary, police and department of social development and six representatives from the gay community.\n",
      "\"The team will be charged with developing a legislative intervention plan, a public awareness strategy, and LGBTI [lesbian, gay, bisexual, transgender and intersex]-sensitive shelters,\" he said.\n",
      "In 2008, female footballer and gay rights activist Eudy Simelane was also killed in KwaThema, some 80km (50 miles) east of Johannesburg.\n",
      "Two people were given long prison terms for her murder and rape, although prosecutors denied that her sexuality had been a motive.\n",
      "\n",
      "Summary:\n",
      "    \n",
      "---------------------------------------------------------------------------------------------------\n",
      "BASELINE HUMAN SUMMARY:\n",
      "South Africa is to set up a team to tackle hate crimes against gay people, the justice ministry says.\n",
      "---------------------------------------------------------------------------------------------------\n",
      "MODEL GENERATION - ZERO SHOT:\n",
      "A police task team has launched a campaign to help the government investigate the murder of a South African woman who was raped in the South African township.\n",
      "\n",
      "---------------------------------------------------------------------------------------------------\n",
      "Example  3\n",
      "---------------------------------------------------------------------------------------------------\n",
      "INPUT PROMPT:\n",
      "\n",
      "Summarise the following document.\n",
      "Spurs boss Mauricio Pochettino said the 20-year-old would be out for \"a few weeks\" after leaving him out of his squad to play Arsenal on Sunday.\n",
      "Pochettino said Alli \"twisted his knee in a clash with a team-mate\".\n",
      "England play Scotland on Friday and Spain the following Tuesday at Wembley.\n",
      "\"I hope it is not a big issue, it's bad luck, he's an important player for us,\" Pochettino added.\n",
      "\"He will be out for a few weeks. We need to assess him today, tomorrow. That is football and sometimes it happens.\"\n",
      "\n",
      "Summary:\n",
      "    \n",
      "---------------------------------------------------------------------------------------------------\n",
      "BASELINE HUMAN SUMMARY:\n",
      "Tottenham midfielder Dele Alli has been ruled out of England's World Cup qualifier with Scotland and friendly against Spain after suffering a knee injury in training.\n",
      "---------------------------------------------------------------------------------------------------\n",
      "MODEL GENERATION - ZERO SHOT:\n",
      "England striker Alli Alli has been out for a week after he left the club for a week.\n",
      "\n"
     ]
    }
   ],
   "source": [
    "for i, index in enumerate(example_indices):\n",
    "    document = dataset['train'][index]['document']\n",
    "    summary = dataset['train'][index]['summary']\n",
    "\n",
    "    prompt = f\"\"\"\n",
    "Summarise the following document.\n",
    "{document}\n",
    "\n",
    "Summary:\n",
    "    \"\"\"\n",
    "\n",
    "    # Input constructed prompt instead of the dialogue.\n",
    "    inputs = tokenizer(prompt, return_tensors='pt')\n",
    "    output = tokenizer.decode(\n",
    "        model.generate(\n",
    "            inputs[\"input_ids\"], \n",
    "            max_new_tokens=100,\n",
    "        )[0], \n",
    "        skip_special_tokens=True\n",
    "    )\n",
    "    \n",
    "    print(dash_line)\n",
    "    print('Example ', i + 1)\n",
    "    print(dash_line)\n",
    "    print(f'INPUT PROMPT:\\n{prompt}')\n",
    "    print(dash_line)\n",
    "    print(f'BASELINE HUMAN SUMMARY:\\n{summary}')\n",
    "    print(dash_line)    \n",
    "    print(f'MODEL GENERATION - ZERO SHOT:\\n{output}\\n')"
   ]
  },
  {
   "cell_type": "markdown",
   "metadata": {},
   "source": [
    "This is much better! But the model still does not pick up on the nuance of the conversations though."
   ]
  },
  {
   "cell_type": "markdown",
   "metadata": {},
   "source": [
    "<a name='3.2'></a>\n",
    "### 3.2 - Zero Shot Inference with the Prompt Template from FLAN-T5\n"
   ]
  },
  {
   "cell_type": "code",
   "execution_count": 43,
   "metadata": {
    "tags": []
   },
   "outputs": [
    {
     "name": "stdout",
     "output_type": "stream",
     "text": [
      "---------------------------------------------------------------------------------------------------\n",
      "Example  1\n",
      "---------------------------------------------------------------------------------------------------\n",
      "INPUT PROMPT:\n",
      "\n",
      "Document:\n",
      "\n",
      "Simone Favaro got the crucial try with the last move of the game, following earlier touchdowns by Chris Fusaro, Zander Fagerson and Junior Bulumakau.\n",
      "Rynard Landman and Ashton Hewitt got a try in either half for the Dragons.\n",
      "Glasgow showed far superior strength in depth as they took control of a messy match in the second period.\n",
      "Home coach Gregor Townsend gave a debut to powerhouse Fijian-born Wallaby wing Taqele Naiyaravoro, and centre Alex Dunbar returned from long-term injury, while the Dragons gave first starts of the season to wing Aled Brew and hooker Elliot Dee.\n",
      "Glasgow lost hooker Pat McArthur to an early shoulder injury but took advantage of their first pressure when Rory Clegg slotted over a penalty on 12 minutes.\n",
      "It took 24 minutes for a disjointed game to produce a try as Sarel Pretorius sniped from close range and Landman forced his way over for Jason Tovey to convert - although it was the lock's last contribution as he departed with a chest injury shortly afterwards.\n",
      "Glasgow struck back when Fusaro drove over from a rolling maul on 35 minutes for Clegg to convert.\n",
      "But the Dragons levelled at 10-10 before half-time when Naiyaravoro was yellow-carded for an aerial tackle on Brew and Tovey slotted the easy goal.\n",
      "The visitors could not make the most of their one-man advantage after the break as their error count cost them dearly.\n",
      "It was Glasgow's bench experience that showed when Mike Blair's break led to a short-range score from teenage prop Fagerson, converted by Clegg.\n",
      "Debutant Favaro was the second home player to be sin-binned, on 63 minutes, but again the Warriors made light of it as replacement wing Bulumakau, a recruit from the Army, pounced to deftly hack through a bouncing ball for an opportunist try.\n",
      "The Dragons got back within striking range with some excellent combined handling putting Hewitt over unopposed after 72 minutes.\n",
      "However, Favaro became sinner-turned-saint as he got on the end of another effective rolling maul to earn his side the extra point with the last move of the game, Clegg converting.\n",
      "Dragons director of rugby Lyn Jones said: \"We're disappointed to have lost but our performance was a lot better [than against Leinster] and the game could have gone either way.\n",
      "\"Unfortunately too many errors behind the scrum cost us a great deal, though from where we were a fortnight ago in Dublin our workrate and desire was excellent.\n",
      "\"It was simply error count from individuals behind the scrum that cost us field position, it's not rocket science - they were correct in how they played and we had a few errors, that was the difference.\"\n",
      "Glasgow Warriors: Rory Hughes, Taqele Naiyaravoro, Alex Dunbar, Fraser Lyle, Lee Jones, Rory Clegg, Grayson Hart; Alex Allan, Pat MacArthur, Zander Fagerson, Rob Harley (capt), Scott Cummings, Hugh Blake, Chris Fusaro, Adam Ashe.\n",
      "Replacements: Fergus Scott, Jerry Yanuyanutawa, Mike Cusack, Greg Peterson, Simone Favaro, Mike Blair, Gregor Hunter, Junior Bulumakau.\n",
      "Dragons: Carl Meyer, Ashton Hewitt, Ross Wardle, Adam Warren, Aled Brew, Jason Tovey, Sarel Pretorius; Boris Stankovich, Elliot Dee, Brok Harris, Nick Crosswell, Rynard Landman (capt), Lewis Evans, Nic Cudd, Ed Jackson.\n",
      "Replacements: Rhys Buckley, Phil Price, Shaun Knight, Matthew Screech, Ollie Griffiths, Luc Jones, Charlie Davies, Nick Scott.\n",
      "\n",
      "What was going on?\n",
      "\n",
      "---------------------------------------------------------------------------------------------------\n",
      "BASELINE HUMAN SUMMARY:\n",
      "Defending Pro12 champions Glasgow Warriors bagged a late bonus-point victory over the Dragons despite a host of absentees and two yellow cards.\n",
      "\n",
      "---------------------------------------------------------------------------------------------------\n",
      "MODEL GENERATION - ZERO SHOT:\n",
      "Glasgow Warriors re-claimed the lead in the second half as they beat Leinster 2-1 in the second half.\n",
      "\n",
      "---------------------------------------------------------------------------------------------------\n",
      "Example  2\n",
      "---------------------------------------------------------------------------------------------------\n",
      "INPUT PROMPT:\n",
      "\n",
      "Document:\n",
      "\n",
      "The decision comes after 170,000 activists from around the world demanded action to help lesbians targeted for \"corrective rape\".\n",
      "The authorities have been accused of not doing enough following the recent killing and rape of lesbian activist Noxolo Nogwaza.\n",
      "Police say they do not consider sexual orientation when investigating murder.\n",
      "\"To us, murder is murder, whether somebody is Zulu, English, male or female - we don't see colour, we don't see gender,\" police ministry spokesman Zweli Mnisi told the BBC on Tuesday, after rights groups urged the police to do more to find those responsible Ms Nogwaza's death.\n",
      "She was stoned, stabbed and gang-raped in the KwaThema township east of Johannesburg over the Easter weekend.\n",
      "Unlike in many African countries, homosexual acts are legal in South Africa and discrimination based on sexual orientation is banned, but activists say gay and lesbian people are often attacked in townships.\n",
      "They say \"corrective rape\" - when a lesbian is raped to either punish her, or \"correct\" her behaviour - is becoming increasingly common.\n",
      "Ndumie Funda, founder of the gay rights organisation Luleki Sizwe which works in 10 black townships and rural areas near Cape Town, welcomed the government's announcement.\n",
      "She said it was important to get \"corrective rape\" classified as a hate crime.\n",
      "\"The South African constitution is one of the highly respected and acknowledged constitutions and it says we are all equal; we're therefore reminding our government to say that this was being promised and we voted for you so we need protection,\" she told the BBC's Network Africa programme.\n",
      "Luleki Sizwe started an online petition at Change.org to get the government to take action.\n",
      "\"In less than six months, a tiny group of township activists has mobilised more than 170,000 people from 163 countries and gotten the highest levels of government to address their basic demand, that the sadistic crime of 'corrective rape' be taken seriously,\" Change.org representative Benjamin Joffe-Walt is quoted by the Sapa news agency as saying.\n",
      "Justice ministry spokesman Tlali Tlali said the the task team would begin its work in July and include six representatives from the judiciary, police and department of social development and six representatives from the gay community.\n",
      "\"The team will be charged with developing a legislative intervention plan, a public awareness strategy, and LGBTI [lesbian, gay, bisexual, transgender and intersex]-sensitive shelters,\" he said.\n",
      "In 2008, female footballer and gay rights activist Eudy Simelane was also killed in KwaThema, some 80km (50 miles) east of Johannesburg.\n",
      "Two people were given long prison terms for her murder and rape, although prosecutors denied that her sexuality had been a motive.\n",
      "\n",
      "What was going on?\n",
      "\n",
      "---------------------------------------------------------------------------------------------------\n",
      "BASELINE HUMAN SUMMARY:\n",
      "South Africa is to set up a team to tackle hate crimes against gay people, the justice ministry says.\n",
      "\n",
      "---------------------------------------------------------------------------------------------------\n",
      "MODEL GENERATION - ZERO SHOT:\n",
      "A police task team has been launched to investigate the murder of a lesbian activist in South Africa.\n",
      "\n",
      "---------------------------------------------------------------------------------------------------\n",
      "Example  3\n",
      "---------------------------------------------------------------------------------------------------\n",
      "INPUT PROMPT:\n",
      "\n",
      "Document:\n",
      "\n",
      "Spurs boss Mauricio Pochettino said the 20-year-old would be out for \"a few weeks\" after leaving him out of his squad to play Arsenal on Sunday.\n",
      "Pochettino said Alli \"twisted his knee in a clash with a team-mate\".\n",
      "England play Scotland on Friday and Spain the following Tuesday at Wembley.\n",
      "\"I hope it is not a big issue, it's bad luck, he's an important player for us,\" Pochettino added.\n",
      "\"He will be out for a few weeks. We need to assess him today, tomorrow. That is football and sometimes it happens.\"\n",
      "\n",
      "What was going on?\n",
      "\n",
      "---------------------------------------------------------------------------------------------------\n",
      "BASELINE HUMAN SUMMARY:\n",
      "Tottenham midfielder Dele Alli has been ruled out of England's World Cup qualifier with Scotland and friendly against Spain after suffering a knee injury in training.\n",
      "\n",
      "---------------------------------------------------------------------------------------------------\n",
      "MODEL GENERATION - ZERO SHOT:\n",
      "England boss Pochettino says Alli \"twisted his knee\" in a clash with a team-mate.\n",
      "\n"
     ]
    }
   ],
   "source": [
    "for i, index in enumerate(example_indices):\n",
    "    document = dataset['train'][index]['document']\n",
    "    summary = dataset['train'][index]['summary']\n",
    "        \n",
    "    prompt = f\"\"\"\n",
    "Document:\n",
    "\n",
    "{document}\n",
    "\n",
    "What was going on?\n",
    "\"\"\"\n",
    "\n",
    "    inputs = tokenizer(prompt, return_tensors='pt')\n",
    "    output = tokenizer.decode(\n",
    "        model.generate(\n",
    "            inputs[\"input_ids\"], \n",
    "            max_new_tokens=100,\n",
    "        )[0], \n",
    "        skip_special_tokens=True\n",
    "    )\n",
    "\n",
    "    print(dash_line)\n",
    "    print('Example ', i + 1)\n",
    "    print(dash_line)\n",
    "    print(f'INPUT PROMPT:\\n{prompt}')\n",
    "    print(dash_line)\n",
    "    print(f'BASELINE HUMAN SUMMARY:\\n{summary}\\n')\n",
    "    print(dash_line)\n",
    "    print(f'MODEL GENERATION - ZERO SHOT:\\n{output}\\n')"
   ]
  },
  {
   "cell_type": "markdown",
   "metadata": {},
   "source": [
    "Notice that this prompt from FLAN-T5 did help a bit, but still struggles to pick up on the nuance of the conversation. This is what you will try to solve with the few shot inferencing."
   ]
  },
  {
   "cell_type": "markdown",
   "metadata": {},
   "source": [
    "<a name='4'></a>\n",
    "## 4 - Summarize Dialogue with One Shot and Few Shot Inference\n"
   ]
  },
  {
   "cell_type": "markdown",
   "metadata": {
    "tags": []
   },
   "source": [
    "<a name='4.1'></a>\n",
    "### 4.1 - One Shot Inference"
   ]
  },
  {
   "cell_type": "code",
   "execution_count": 44,
   "metadata": {
    "tags": []
   },
   "outputs": [],
   "source": [
    "def make_prompt(example_indices_full, example_index_to_summarize):\n",
    "    prompt = ''\n",
    "    for index in example_indices_full:\n",
    "        document = dataset['train'][index]['document']\n",
    "        summary = dataset['train'][index]['summary']\n",
    "        \n",
    "        # The stop sequence '{summary}\\n\\n\\n' is important for FLAN-T5. Other models may have their own preferred stop sequence.\n",
    "        prompt += f\"\"\"\n",
    "Document:\n",
    "\n",
    "{document}\n",
    "\n",
    "What was going on?\n",
    "{summary}\n",
    "\n",
    "\n",
    "\"\"\"\n",
    "    \n",
    "    document = dataset['train'][example_index_to_summarize]['document']\n",
    "    \n",
    "    prompt += f\"\"\"\n",
    "Document:\n",
    "\n",
    "{document}\n",
    "\n",
    "What was going on?\n",
    "\"\"\"\n",
    "        \n",
    "    return prompt"
   ]
  },
  {
   "cell_type": "markdown",
   "metadata": {
    "tags": []
   },
   "source": [
    "Construct the prompt to perform one shot inference:"
   ]
  },
  {
   "cell_type": "code",
   "execution_count": 45,
   "metadata": {
    "tags": []
   },
   "outputs": [
    {
     "name": "stdout",
     "output_type": "stream",
     "text": [
      "\n",
      "Document:\n",
      "\n",
      "He is approaching the end of his 10th year in charge and thinks it is the right time to seek a fresh challenge.\n",
      "Cricket Scotland chairman Keith Oliver said: \"There is no doubt that the governing body of cricket in Scotland is unrecognisable from where we were in 2004.\n",
      "\"And the credit for this must go to Roddy and his staff.\"\n",
      "During Smith's time as chief executive, his management team have increased from eight to 25 and turnover has quadrupled.\n",
      "I am delighted that I leave an organisation in good health with a growing game and after a year of exceptional on-field performances by national teams at all levels\n",
      "Cricket Scotland reported a rise in participation figures for players, coaches and umpires during those 10 years.\n",
      "And the national side have secured a place at next year's World Cup finals in Australia and New Zealand by beating Kenya in a qualifying event.\n",
      "Oliver, who has worked with Smith during that whole period, said: \"Back then, we could not have imagined we would have won global qualifying events, played in world cups at youth and senior level, played One Day International games in front of thousands, run a fully professional national team as well as winning numerous development awards at a European and Global level.\n",
      "\"I and all at Cricket Scotland wish Roddy every success in his next role.\"\n",
      "Cricket Scotland will start the recruitment process to find Smith's successor with the aim of having a replacement in place early in the new year.\n",
      "Smith said: ''I have thoroughly enjoyed my time with Cricket Scotland and it's hard to believe it has been nearly a decade.\n",
      "\"I am delighted that I leave an organisation in good health with a growing game and after a year of exceptional on-field performances by national teams at all levels.\n",
      "\"Ten years is a long time for a chief executive of a national governing body and now feels exactly the right time to move on to my next challenge.\n",
      "\"With a Cricket World Cup to look forward to early next year and a number of newly-appointed quality staff to work with, I am looking forward to handing over to my successor an organisation that is very well placed to succeed in the future.\"\n",
      "Cricket Scotland announced in June that it plans a new \"world class\" base in Stirling, relocating from Edinburgh, with a new pavilion at the home of Stirling County Cricket Club designed to host international matches.\n",
      "\n",
      "What was going on?\n",
      "Cricket Scotland chief executive Roddy Smith has announced that he will leave the role at the end of December.\n",
      "\n",
      "\n",
      "\n",
      "Document:\n",
      "\n",
      "In a Commons debate, the ex-Labour leader said Conservative plans to limit the voting powers of Scottish MPs on Commons laws would \"rip up\" hundreds of years of parliamentary procedure.\n",
      "The SNP said the Conservatives wanted to create a \"quasi-English Parliament\".\n",
      "But ministers said it was vital England was treated fairly as further powers were devolved to other parts of the UK.\n",
      "At the end of the debate, Labour staged and won a vote in which the government abstained. And Conservative MP David Davis raised a point of order to urge the government to allow more time for the matter to be considered.\n",
      "The government believes bills applying exclusively to England should not become law without the explicit consent of MPs from English constituencies and it wants to change Commons rules known as standing orders to give them a \"decisive say\" during their passage.\n",
      "Ministers say this will address the longstanding anomaly by which Scottish MPs can vote on issues such as health and education affecting England but English MPs have no say on similar matters relating to Scotland, where such policies are devolved.\n",
      "Mark D'Arcy, BBC Parliamentary correspondent\n",
      "Panic stations? From the point of view of the government whips this afternoon's emergency Commons debate on English Votes for English Laws was really rather alarming.\n",
      "The debate, so skilfully secured by Lib Dem ex Scottish secretary Alistair Carmichael, produced a slightly pointless vote in which the Conservatives mostly abstained, but it brought all kinds of nasty tensions to the surface.\n",
      "Conservative MPs are supposed to be signed up for EVEL under the terms of their manifesto, but there were clearly quite a few with doubts, some about the policy, many more about the process, which was Mr Carmichael's line of attack.\n",
      "Read the article in full\n",
      "However, the plans came under sustained attack from Labour, SNP and Lib Dems in an urgent debate, secured by former Scottish Secretary Alistair Carmichael.\n",
      "MPs are due to debate and vote on the government's plans next week but Mr Carmichael, the MP for Orkney and Shetland, said the plans required more detailed consideration, arguably through primary legislation.\n",
      "If MPs representing constituencies in England had a \"veto\" on certain legislation, it would breach the longstanding principle that MPs, no matter who they represented, were \"all equal\".\n",
      "\"To go as far as the government wants to go in the timescale they want to go brings with it an attendant level of risk that I would consider to be irresponsible,\" he said.\n",
      "\"They are not entitled to use the UK Parliament as a proxy for an English Parliament.\"\n",
      "Assurances that the new system would be reviewed by MPs after a year were inadequate, he added, saying this would not be capable of \"putting a dangerous genie back in the bottle after it had been let out - we all know that is the political reality\".\n",
      "But Commons Leader Chris Grayling said it was \"simply incorrect\" to claim some MPs would be prevented from debating and voting on certain legislation and would continue to exercise the same rights as they do now.\n",
      "Pressed by Mr Miliband on \"what the meaning and definition\" of English-only legislation would be, Mr Grayling said it would be up to the Speaker to decide but he believed a \"simple test\" would be what things were devolved to Scotland.\n",
      "Requiring bills to have the support of a \"double majority\" of the whole of the Commons and those MPs representing England would also help mitigate \"any resentment\" felt by English voters about the slower pace of devolution to England.\n",
      "\"It is of vital importance that English citizens of the UK, as we move to an extra layer of devolution to Scotland and Wales and devolve additional tax powers to Northern Ireland, that they think it is fair,\" he said.\n",
      "\"It is what we pledged to do in our manifesto. We set it out in detail, step by step by step. We are implementing these changes and keeping our promises. I think the people who elected us would expect nothing else.\"\n",
      "Mr Miliband said the Conservatives had the power to address the issue after winning the election but urged them to think again.\n",
      "\"Is this true to the traditions of Conservatism? No because the last thing you do is rip up hundreds of years of constitutional practice in a standing order vote just before the House goes into recess,\" he said.\n",
      "\"Doing this procedure in the way it is being proposed is an act of constitutional vandalism. It really is.\"\n",
      "The SNP said Scottish voters would be affected by legislation on schools and NHS budgets in England through the Barnett Formula used to allocate public spending to different nations of the UK.\n",
      "\"This not just English votes for English laws, this is English votes for Scottish laws,\" said Pete Wishart, MP for Perth and North Perthshire. \"It is totally and utterly unacceptable.\"\n",
      "He added: \"Why don't they just tattoo our foreheads 'Scottish' and then they would be able to identify us.\"\n",
      "And Conservative MP Sir Edward Leigh said the move would not make any difference to the outcome of votes and urged ministers to omit laws which indirectly applied to Scotland, saying not to do so would be a \"gift\" to the SNP's independence campaign.\n",
      "Responding to a question by an SNP MP on Monday, Mr Grayling said the only English-only measure during the last Parliament had been the Education Bill, and there were 13 Bills which applied to England and Wales.\n",
      "\n",
      "What was going on?\n",
      "\n"
     ]
    }
   ],
   "source": [
    "example_indices_full = [40]\n",
    "example_index_to_summarize = 200\n",
    "\n",
    "one_shot_prompt = make_prompt(example_indices_full, example_index_to_summarize)\n",
    "\n",
    "print(one_shot_prompt)"
   ]
  },
  {
   "cell_type": "markdown",
   "metadata": {
    "tags": []
   },
   "source": [
    "Now pass this prompt to perform the one shot inference:"
   ]
  },
  {
   "cell_type": "code",
   "execution_count": 47,
   "metadata": {
    "tags": []
   },
   "outputs": [
    {
     "name": "stdout",
     "output_type": "stream",
     "text": [
      "---------------------------------------------------------------------------------------------------\n",
      "BASELINE HUMAN SUMMARY:\n",
      "Plans for \"English votes for English laws\" are an \"act of constitutional vandalism\", Ed Miliband has warned.\n",
      "\n",
      "---------------------------------------------------------------------------------------------------\n",
      "MODEL GENERATION - ONE SHOT:\n",
      "The government has defended the government's plans to limit voting powers of MPs on Commons laws, saying it would \"rip up\" hundreds of years of constitutional practice in a standing order vote.\n"
     ]
    }
   ],
   "source": [
    "summary = dataset['train'][example_index_to_summarize]['summary']\n",
    "\n",
    "inputs = tokenizer(one_shot_prompt, return_tensors='pt')\n",
    "output = tokenizer.decode(\n",
    "    model.generate(\n",
    "        inputs[\"input_ids\"],\n",
    "        max_new_tokens=50,\n",
    "    )[0], \n",
    "    skip_special_tokens=True\n",
    ")\n",
    "\n",
    "print(dash_line)\n",
    "print(f'BASELINE HUMAN SUMMARY:\\n{summary}\\n')\n",
    "print(dash_line)\n",
    "print(f'MODEL GENERATION - ONE SHOT:\\n{output}')"
   ]
  },
  {
   "cell_type": "markdown",
   "metadata": {
    "tags": []
   },
   "source": [
    "<a name='4.2'></a>\n",
    "### 4.2 - Few Shot Inference\n",
    "\n",
    "Let's explore few shot inference by adding two more full dialogue-summary pairs to your prompt."
   ]
  },
  {
   "cell_type": "code",
   "execution_count": 48,
   "metadata": {
    "tags": []
   },
   "outputs": [
    {
     "name": "stdout",
     "output_type": "stream",
     "text": [
      "\n",
      "Document:\n",
      "\n",
      "He is approaching the end of his 10th year in charge and thinks it is the right time to seek a fresh challenge.\n",
      "Cricket Scotland chairman Keith Oliver said: \"There is no doubt that the governing body of cricket in Scotland is unrecognisable from where we were in 2004.\n",
      "\"And the credit for this must go to Roddy and his staff.\"\n",
      "During Smith's time as chief executive, his management team have increased from eight to 25 and turnover has quadrupled.\n",
      "I am delighted that I leave an organisation in good health with a growing game and after a year of exceptional on-field performances by national teams at all levels\n",
      "Cricket Scotland reported a rise in participation figures for players, coaches and umpires during those 10 years.\n",
      "And the national side have secured a place at next year's World Cup finals in Australia and New Zealand by beating Kenya in a qualifying event.\n",
      "Oliver, who has worked with Smith during that whole period, said: \"Back then, we could not have imagined we would have won global qualifying events, played in world cups at youth and senior level, played One Day International games in front of thousands, run a fully professional national team as well as winning numerous development awards at a European and Global level.\n",
      "\"I and all at Cricket Scotland wish Roddy every success in his next role.\"\n",
      "Cricket Scotland will start the recruitment process to find Smith's successor with the aim of having a replacement in place early in the new year.\n",
      "Smith said: ''I have thoroughly enjoyed my time with Cricket Scotland and it's hard to believe it has been nearly a decade.\n",
      "\"I am delighted that I leave an organisation in good health with a growing game and after a year of exceptional on-field performances by national teams at all levels.\n",
      "\"Ten years is a long time for a chief executive of a national governing body and now feels exactly the right time to move on to my next challenge.\n",
      "\"With a Cricket World Cup to look forward to early next year and a number of newly-appointed quality staff to work with, I am looking forward to handing over to my successor an organisation that is very well placed to succeed in the future.\"\n",
      "Cricket Scotland announced in June that it plans a new \"world class\" base in Stirling, relocating from Edinburgh, with a new pavilion at the home of Stirling County Cricket Club designed to host international matches.\n",
      "\n",
      "What was going on?\n",
      "Cricket Scotland chief executive Roddy Smith has announced that he will leave the role at the end of December.\n",
      "\n",
      "\n",
      "\n",
      "Document:\n",
      "\n",
      "The Sauchiehall Street building was taken over by the Willow Tea Rooms Trust in 2014 and is being refurbished.\n",
      "The Willow Tea Rooms inside was a separate business and had to relocate.\n",
      "Its owner, Anne Mulhern, chose to recreate the Tea Rooms, which she has run since 1983, inside the nearby Watt Brothers store.\n",
      "The Sauchiehall Street building and interiors were designed by Mackintosh and built in 1903 for Kate Cranston, who ran several tearooms in the city.\n",
      "The Willow Rea Rooms Trust closed the building earlier this year for a major refurbishment which aims to restore the structure to its former glory.\n",
      "Ms Mulhern opened her business there in 1983 after the building had been used as a retail unit.\n",
      "She said it was \"exciting\" to be based at another building with a \"fascinating history\".\n",
      "\"Creating the new tea room has been a really exciting project and we have returned it to its original grandeur with a nod to Miss Cranston's original tea room designs,\" she said.\n",
      "\n",
      "What was going on?\n",
      "Glasgow's Willow Tea Rooms has reopened at Watt brothers department store after leaving its former home in a Charles Rennie Mackintosh designed building.\n",
      "\n",
      "\n",
      "\n",
      "Document:\n",
      "\n",
      "This is according to a study revealing that 96% of the chicks are dying at two to three weeks old.\n",
      "Conservationists say that human activity has driven the birds to one remaining wetland, but that that site has insufficient food for the ducks.\n",
      "The research is published in the journal Bird Conservation International.\n",
      "The Wildfowl and Wetlands Trust (WWT), which led the research, estimates that only 25 individual birds now remain in the wild.\n",
      "Human activity, including deforestation, farming and fishing, has destroyed their habitat to the point that this last population is now restricted to one wetland in north-east Madagascar - a complex of lakes near Bemanevika.\n",
      "After the rediscovery of the species at this site in 2006, the WWT and its partners, including the Durrell Wildlife Conservation Trust and the Peregrine Fund, set up a conservation breeding programme and began to monitor the wild birds.\n",
      "Dr Geoff Hilton, head of species research at the WWT, said that with such a small number of birds, keeping a close eye on the population was straightforward.\n",
      "\"We had about 10 or 11 females, [and] we were able to tell that most of those females were laying eggs, and those eggs were hatching,\" he told BBC News.\n",
      "But at the point when the ducklings were two to three weeks old, they would start disappearing.\n",
      "Piecing the evidence together, including samples of food from the bottom of the lake, the researchers realised that the chicks were starving to death.\n",
      "These diving ducks feed from the bottom of lakes, and this steep crater lake was simply too deep for them.\n",
      "WWT senior research officer Dr Andrew Bamford, who led the study, said: \"The last refuge of the Madagascar pochard is one of the last unspoilt wetlands in the country, but it's simply not suited to its needs.\n",
      "\"Something similar happened in the UK when the lowland red kite became confined to upland Wales, and in Hawaii, where the last nenes survived only on the upper slopes of volcanoes because introduced predators had occupied their favoured grassland habitats.\"\n",
      "Dr Hilton added: \"What we think we're seeing is a bit of a classic wildlife conservation conundrum.\n",
      "\"The place where the species hangs on at the end is not a particularly good place for them - it's just the place that's been least badly affected by human activities.\"\n",
      "But the researchers say the species could thrive in Madagascar again if the captive-bred ducks can be found a new wetland home.\n",
      "\"We have been very successful in establishing a captive population,\" said Dr Hilton.\n",
      "\"And we have recently identified a lake that we think has potential to be restored and become a reintroduction site.\n",
      "\"The main thing we have to do is work with the local people to reintroduce and restore the pochard, but also to restore the lake and help people to get a better livelihood from the lake they live around.\"\n",
      "Follow Victoria on Twitter\n",
      "\n",
      "What was going on?\n",
      "The Madagascar pochard, the world's rarest bird, will not be able to thrive without a new wetland home.\n",
      "\n",
      "\n",
      "\n",
      "Document:\n",
      "\n",
      "In a Commons debate, the ex-Labour leader said Conservative plans to limit the voting powers of Scottish MPs on Commons laws would \"rip up\" hundreds of years of parliamentary procedure.\n",
      "The SNP said the Conservatives wanted to create a \"quasi-English Parliament\".\n",
      "But ministers said it was vital England was treated fairly as further powers were devolved to other parts of the UK.\n",
      "At the end of the debate, Labour staged and won a vote in which the government abstained. And Conservative MP David Davis raised a point of order to urge the government to allow more time for the matter to be considered.\n",
      "The government believes bills applying exclusively to England should not become law without the explicit consent of MPs from English constituencies and it wants to change Commons rules known as standing orders to give them a \"decisive say\" during their passage.\n",
      "Ministers say this will address the longstanding anomaly by which Scottish MPs can vote on issues such as health and education affecting England but English MPs have no say on similar matters relating to Scotland, where such policies are devolved.\n",
      "Mark D'Arcy, BBC Parliamentary correspondent\n",
      "Panic stations? From the point of view of the government whips this afternoon's emergency Commons debate on English Votes for English Laws was really rather alarming.\n",
      "The debate, so skilfully secured by Lib Dem ex Scottish secretary Alistair Carmichael, produced a slightly pointless vote in which the Conservatives mostly abstained, but it brought all kinds of nasty tensions to the surface.\n",
      "Conservative MPs are supposed to be signed up for EVEL under the terms of their manifesto, but there were clearly quite a few with doubts, some about the policy, many more about the process, which was Mr Carmichael's line of attack.\n",
      "Read the article in full\n",
      "However, the plans came under sustained attack from Labour, SNP and Lib Dems in an urgent debate, secured by former Scottish Secretary Alistair Carmichael.\n",
      "MPs are due to debate and vote on the government's plans next week but Mr Carmichael, the MP for Orkney and Shetland, said the plans required more detailed consideration, arguably through primary legislation.\n",
      "If MPs representing constituencies in England had a \"veto\" on certain legislation, it would breach the longstanding principle that MPs, no matter who they represented, were \"all equal\".\n",
      "\"To go as far as the government wants to go in the timescale they want to go brings with it an attendant level of risk that I would consider to be irresponsible,\" he said.\n",
      "\"They are not entitled to use the UK Parliament as a proxy for an English Parliament.\"\n",
      "Assurances that the new system would be reviewed by MPs after a year were inadequate, he added, saying this would not be capable of \"putting a dangerous genie back in the bottle after it had been let out - we all know that is the political reality\".\n",
      "But Commons Leader Chris Grayling said it was \"simply incorrect\" to claim some MPs would be prevented from debating and voting on certain legislation and would continue to exercise the same rights as they do now.\n",
      "Pressed by Mr Miliband on \"what the meaning and definition\" of English-only legislation would be, Mr Grayling said it would be up to the Speaker to decide but he believed a \"simple test\" would be what things were devolved to Scotland.\n",
      "Requiring bills to have the support of a \"double majority\" of the whole of the Commons and those MPs representing England would also help mitigate \"any resentment\" felt by English voters about the slower pace of devolution to England.\n",
      "\"It is of vital importance that English citizens of the UK, as we move to an extra layer of devolution to Scotland and Wales and devolve additional tax powers to Northern Ireland, that they think it is fair,\" he said.\n",
      "\"It is what we pledged to do in our manifesto. We set it out in detail, step by step by step. We are implementing these changes and keeping our promises. I think the people who elected us would expect nothing else.\"\n",
      "Mr Miliband said the Conservatives had the power to address the issue after winning the election but urged them to think again.\n",
      "\"Is this true to the traditions of Conservatism? No because the last thing you do is rip up hundreds of years of constitutional practice in a standing order vote just before the House goes into recess,\" he said.\n",
      "\"Doing this procedure in the way it is being proposed is an act of constitutional vandalism. It really is.\"\n",
      "The SNP said Scottish voters would be affected by legislation on schools and NHS budgets in England through the Barnett Formula used to allocate public spending to different nations of the UK.\n",
      "\"This not just English votes for English laws, this is English votes for Scottish laws,\" said Pete Wishart, MP for Perth and North Perthshire. \"It is totally and utterly unacceptable.\"\n",
      "He added: \"Why don't they just tattoo our foreheads 'Scottish' and then they would be able to identify us.\"\n",
      "And Conservative MP Sir Edward Leigh said the move would not make any difference to the outcome of votes and urged ministers to omit laws which indirectly applied to Scotland, saying not to do so would be a \"gift\" to the SNP's independence campaign.\n",
      "Responding to a question by an SNP MP on Monday, Mr Grayling said the only English-only measure during the last Parliament had been the Education Bill, and there were 13 Bills which applied to England and Wales.\n",
      "\n",
      "What was going on?\n",
      "\n"
     ]
    }
   ],
   "source": [
    "example_indices_full = [40, 80, 120]\n",
    "example_index_to_summarize = 200\n",
    "\n",
    "few_shot_prompt = make_prompt(example_indices_full, example_index_to_summarize)\n",
    "\n",
    "print(few_shot_prompt)"
   ]
  },
  {
   "cell_type": "markdown",
   "metadata": {
    "tags": []
   },
   "source": [
    "Now pass this prompt to perform a few shot inference:"
   ]
  },
  {
   "cell_type": "code",
   "execution_count": 49,
   "metadata": {
    "scrolled": true,
    "tags": []
   },
   "outputs": [
    {
     "name": "stdout",
     "output_type": "stream",
     "text": [
      "---------------------------------------------------------------------------------------------------\n",
      "BASELINE HUMAN SUMMARY:\n",
      "Plans for \"English votes for English laws\" are an \"act of constitutional vandalism\", Ed Miliband has warned.\n",
      "\n",
      "---------------------------------------------------------------------------------------------------\n",
      "MODEL GENERATION - FEW SHOT:\n",
      "The government has said it will limit the voting powers of MPs representing constituencies in England to a \"quasi-English Parliament\" if they have a \"veto\" on certain legislation.\n"
     ]
    }
   ],
   "source": [
    "summary = dataset['train'][example_index_to_summarize]['summary']\n",
    "\n",
    "inputs = tokenizer(few_shot_prompt, return_tensors='pt')\n",
    "output = tokenizer.decode(\n",
    "    model.generate(\n",
    "        inputs[\"input_ids\"],\n",
    "        max_new_tokens=50,\n",
    "    )[0], \n",
    "    skip_special_tokens=True\n",
    ")\n",
    "\n",
    "print(dash_line)\n",
    "print(f'BASELINE HUMAN SUMMARY:\\n{summary}\\n')\n",
    "print(dash_line)\n",
    "print(f'MODEL GENERATION - FEW SHOT:\\n{output}')"
   ]
  },
  {
   "cell_type": "markdown",
   "metadata": {
    "tags": []
   },
   "source": [
    "<a name='5'></a>\n",
    "## 5 - Generative Configuration Parameters for Inference"
   ]
  },
  {
   "cell_type": "code",
   "execution_count": 57,
   "metadata": {
    "scrolled": true,
    "tags": []
   },
   "outputs": [
    {
     "name": "stdout",
     "output_type": "stream",
     "text": [
      "---------------------------------------------------------------------------------------------------\n",
      "MODEL GENERATION - FEW SHOT:\n",
      "Commons elections are set at last, and the government's intention is to restrict the vote on the \"simple test\" of English-only law.\n",
      "---------------------------------------------------------------------------------------------------\n",
      "BASELINE HUMAN SUMMARY:\n",
      "Plans for \"English votes for English laws\" are an \"act of constitutional vandalism\", Ed Miliband has warned.\n",
      "\n"
     ]
    }
   ],
   "source": [
    "generation_config = GenerationConfig(max_new_tokens=50, do_sample=True)\n",
    "\n",
    "inputs = tokenizer(few_shot_prompt, return_tensors='pt')\n",
    "output = tokenizer.decode(\n",
    "    model.generate(\n",
    "        inputs[\"input_ids\"],\n",
    "        generation_config=generation_config,\n",
    "    )[0], \n",
    "    skip_special_tokens=True\n",
    ")\n",
    "\n",
    "print(dash_line)\n",
    "print(f'MODEL GENERATION - FEW SHOT:\\n{output}')\n",
    "print(dash_line)\n",
    "print(f'BASELINE HUMAN SUMMARY:\\n{summary}\\n')"
   ]
  }
 ],
 "metadata": {
  "availableInstances": [
   {
    "_defaultOrder": 0,
    "_isFastLaunch": true,
    "category": "General purpose",
    "gpuNum": 0,
    "hideHardwareSpecs": false,
    "memoryGiB": 4,
    "name": "ml.t3.medium",
    "vcpuNum": 2
   },
   {
    "_defaultOrder": 1,
    "_isFastLaunch": false,
    "category": "General purpose",
    "gpuNum": 0,
    "hideHardwareSpecs": false,
    "memoryGiB": 8,
    "name": "ml.t3.large",
    "vcpuNum": 2
   },
   {
    "_defaultOrder": 2,
    "_isFastLaunch": false,
    "category": "General purpose",
    "gpuNum": 0,
    "hideHardwareSpecs": false,
    "memoryGiB": 16,
    "name": "ml.t3.xlarge",
    "vcpuNum": 4
   },
   {
    "_defaultOrder": 3,
    "_isFastLaunch": false,
    "category": "General purpose",
    "gpuNum": 0,
    "hideHardwareSpecs": false,
    "memoryGiB": 32,
    "name": "ml.t3.2xlarge",
    "vcpuNum": 8
   },
   {
    "_defaultOrder": 4,
    "_isFastLaunch": true,
    "category": "General purpose",
    "gpuNum": 0,
    "hideHardwareSpecs": false,
    "memoryGiB": 8,
    "name": "ml.m5.large",
    "vcpuNum": 2
   },
   {
    "_defaultOrder": 5,
    "_isFastLaunch": false,
    "category": "General purpose",
    "gpuNum": 0,
    "hideHardwareSpecs": false,
    "memoryGiB": 16,
    "name": "ml.m5.xlarge",
    "vcpuNum": 4
   },
   {
    "_defaultOrder": 6,
    "_isFastLaunch": false,
    "category": "General purpose",
    "gpuNum": 0,
    "hideHardwareSpecs": false,
    "memoryGiB": 32,
    "name": "ml.m5.2xlarge",
    "vcpuNum": 8
   },
   {
    "_defaultOrder": 7,
    "_isFastLaunch": false,
    "category": "General purpose",
    "gpuNum": 0,
    "hideHardwareSpecs": false,
    "memoryGiB": 64,
    "name": "ml.m5.4xlarge",
    "vcpuNum": 16
   },
   {
    "_defaultOrder": 8,
    "_isFastLaunch": false,
    "category": "General purpose",
    "gpuNum": 0,
    "hideHardwareSpecs": false,
    "memoryGiB": 128,
    "name": "ml.m5.8xlarge",
    "vcpuNum": 32
   },
   {
    "_defaultOrder": 9,
    "_isFastLaunch": false,
    "category": "General purpose",
    "gpuNum": 0,
    "hideHardwareSpecs": false,
    "memoryGiB": 192,
    "name": "ml.m5.12xlarge",
    "vcpuNum": 48
   },
   {
    "_defaultOrder": 10,
    "_isFastLaunch": false,
    "category": "General purpose",
    "gpuNum": 0,
    "hideHardwareSpecs": false,
    "memoryGiB": 256,
    "name": "ml.m5.16xlarge",
    "vcpuNum": 64
   },
   {
    "_defaultOrder": 11,
    "_isFastLaunch": false,
    "category": "General purpose",
    "gpuNum": 0,
    "hideHardwareSpecs": false,
    "memoryGiB": 384,
    "name": "ml.m5.24xlarge",
    "vcpuNum": 96
   },
   {
    "_defaultOrder": 12,
    "_isFastLaunch": false,
    "category": "General purpose",
    "gpuNum": 0,
    "hideHardwareSpecs": false,
    "memoryGiB": 8,
    "name": "ml.m5d.large",
    "vcpuNum": 2
   },
   {
    "_defaultOrder": 13,
    "_isFastLaunch": false,
    "category": "General purpose",
    "gpuNum": 0,
    "hideHardwareSpecs": false,
    "memoryGiB": 16,
    "name": "ml.m5d.xlarge",
    "vcpuNum": 4
   },
   {
    "_defaultOrder": 14,
    "_isFastLaunch": false,
    "category": "General purpose",
    "gpuNum": 0,
    "hideHardwareSpecs": false,
    "memoryGiB": 32,
    "name": "ml.m5d.2xlarge",
    "vcpuNum": 8
   },
   {
    "_defaultOrder": 15,
    "_isFastLaunch": false,
    "category": "General purpose",
    "gpuNum": 0,
    "hideHardwareSpecs": false,
    "memoryGiB": 64,
    "name": "ml.m5d.4xlarge",
    "vcpuNum": 16
   },
   {
    "_defaultOrder": 16,
    "_isFastLaunch": false,
    "category": "General purpose",
    "gpuNum": 0,
    "hideHardwareSpecs": false,
    "memoryGiB": 128,
    "name": "ml.m5d.8xlarge",
    "vcpuNum": 32
   },
   {
    "_defaultOrder": 17,
    "_isFastLaunch": false,
    "category": "General purpose",
    "gpuNum": 0,
    "hideHardwareSpecs": false,
    "memoryGiB": 192,
    "name": "ml.m5d.12xlarge",
    "vcpuNum": 48
   },
   {
    "_defaultOrder": 18,
    "_isFastLaunch": false,
    "category": "General purpose",
    "gpuNum": 0,
    "hideHardwareSpecs": false,
    "memoryGiB": 256,
    "name": "ml.m5d.16xlarge",
    "vcpuNum": 64
   },
   {
    "_defaultOrder": 19,
    "_isFastLaunch": false,
    "category": "General purpose",
    "gpuNum": 0,
    "hideHardwareSpecs": false,
    "memoryGiB": 384,
    "name": "ml.m5d.24xlarge",
    "vcpuNum": 96
   },
   {
    "_defaultOrder": 20,
    "_isFastLaunch": false,
    "category": "General purpose",
    "gpuNum": 0,
    "hideHardwareSpecs": true,
    "memoryGiB": 0,
    "name": "ml.geospatial.interactive",
    "supportedImageNames": [
     "sagemaker-geospatial-v1-0"
    ],
    "vcpuNum": 0
   },
   {
    "_defaultOrder": 21,
    "_isFastLaunch": true,
    "category": "Compute optimized",
    "gpuNum": 0,
    "hideHardwareSpecs": false,
    "memoryGiB": 4,
    "name": "ml.c5.large",
    "vcpuNum": 2
   },
   {
    "_defaultOrder": 22,
    "_isFastLaunch": false,
    "category": "Compute optimized",
    "gpuNum": 0,
    "hideHardwareSpecs": false,
    "memoryGiB": 8,
    "name": "ml.c5.xlarge",
    "vcpuNum": 4
   },
   {
    "_defaultOrder": 23,
    "_isFastLaunch": false,
    "category": "Compute optimized",
    "gpuNum": 0,
    "hideHardwareSpecs": false,
    "memoryGiB": 16,
    "name": "ml.c5.2xlarge",
    "vcpuNum": 8
   },
   {
    "_defaultOrder": 24,
    "_isFastLaunch": false,
    "category": "Compute optimized",
    "gpuNum": 0,
    "hideHardwareSpecs": false,
    "memoryGiB": 32,
    "name": "ml.c5.4xlarge",
    "vcpuNum": 16
   },
   {
    "_defaultOrder": 25,
    "_isFastLaunch": false,
    "category": "Compute optimized",
    "gpuNum": 0,
    "hideHardwareSpecs": false,
    "memoryGiB": 72,
    "name": "ml.c5.9xlarge",
    "vcpuNum": 36
   },
   {
    "_defaultOrder": 26,
    "_isFastLaunch": false,
    "category": "Compute optimized",
    "gpuNum": 0,
    "hideHardwareSpecs": false,
    "memoryGiB": 96,
    "name": "ml.c5.12xlarge",
    "vcpuNum": 48
   },
   {
    "_defaultOrder": 27,
    "_isFastLaunch": false,
    "category": "Compute optimized",
    "gpuNum": 0,
    "hideHardwareSpecs": false,
    "memoryGiB": 144,
    "name": "ml.c5.18xlarge",
    "vcpuNum": 72
   },
   {
    "_defaultOrder": 28,
    "_isFastLaunch": false,
    "category": "Compute optimized",
    "gpuNum": 0,
    "hideHardwareSpecs": false,
    "memoryGiB": 192,
    "name": "ml.c5.24xlarge",
    "vcpuNum": 96
   },
   {
    "_defaultOrder": 29,
    "_isFastLaunch": true,
    "category": "Accelerated computing",
    "gpuNum": 1,
    "hideHardwareSpecs": false,
    "memoryGiB": 16,
    "name": "ml.g4dn.xlarge",
    "vcpuNum": 4
   },
   {
    "_defaultOrder": 30,
    "_isFastLaunch": false,
    "category": "Accelerated computing",
    "gpuNum": 1,
    "hideHardwareSpecs": false,
    "memoryGiB": 32,
    "name": "ml.g4dn.2xlarge",
    "vcpuNum": 8
   },
   {
    "_defaultOrder": 31,
    "_isFastLaunch": false,
    "category": "Accelerated computing",
    "gpuNum": 1,
    "hideHardwareSpecs": false,
    "memoryGiB": 64,
    "name": "ml.g4dn.4xlarge",
    "vcpuNum": 16
   },
   {
    "_defaultOrder": 32,
    "_isFastLaunch": false,
    "category": "Accelerated computing",
    "gpuNum": 1,
    "hideHardwareSpecs": false,
    "memoryGiB": 128,
    "name": "ml.g4dn.8xlarge",
    "vcpuNum": 32
   },
   {
    "_defaultOrder": 33,
    "_isFastLaunch": false,
    "category": "Accelerated computing",
    "gpuNum": 4,
    "hideHardwareSpecs": false,
    "memoryGiB": 192,
    "name": "ml.g4dn.12xlarge",
    "vcpuNum": 48
   },
   {
    "_defaultOrder": 34,
    "_isFastLaunch": false,
    "category": "Accelerated computing",
    "gpuNum": 1,
    "hideHardwareSpecs": false,
    "memoryGiB": 256,
    "name": "ml.g4dn.16xlarge",
    "vcpuNum": 64
   },
   {
    "_defaultOrder": 35,
    "_isFastLaunch": false,
    "category": "Accelerated computing",
    "gpuNum": 1,
    "hideHardwareSpecs": false,
    "memoryGiB": 61,
    "name": "ml.p3.2xlarge",
    "vcpuNum": 8
   },
   {
    "_defaultOrder": 36,
    "_isFastLaunch": false,
    "category": "Accelerated computing",
    "gpuNum": 4,
    "hideHardwareSpecs": false,
    "memoryGiB": 244,
    "name": "ml.p3.8xlarge",
    "vcpuNum": 32
   },
   {
    "_defaultOrder": 37,
    "_isFastLaunch": false,
    "category": "Accelerated computing",
    "gpuNum": 8,
    "hideHardwareSpecs": false,
    "memoryGiB": 488,
    "name": "ml.p3.16xlarge",
    "vcpuNum": 64
   },
   {
    "_defaultOrder": 38,
    "_isFastLaunch": false,
    "category": "Accelerated computing",
    "gpuNum": 8,
    "hideHardwareSpecs": false,
    "memoryGiB": 768,
    "name": "ml.p3dn.24xlarge",
    "vcpuNum": 96
   },
   {
    "_defaultOrder": 39,
    "_isFastLaunch": false,
    "category": "Memory Optimized",
    "gpuNum": 0,
    "hideHardwareSpecs": false,
    "memoryGiB": 16,
    "name": "ml.r5.large",
    "vcpuNum": 2
   },
   {
    "_defaultOrder": 40,
    "_isFastLaunch": false,
    "category": "Memory Optimized",
    "gpuNum": 0,
    "hideHardwareSpecs": false,
    "memoryGiB": 32,
    "name": "ml.r5.xlarge",
    "vcpuNum": 4
   },
   {
    "_defaultOrder": 41,
    "_isFastLaunch": false,
    "category": "Memory Optimized",
    "gpuNum": 0,
    "hideHardwareSpecs": false,
    "memoryGiB": 64,
    "name": "ml.r5.2xlarge",
    "vcpuNum": 8
   },
   {
    "_defaultOrder": 42,
    "_isFastLaunch": false,
    "category": "Memory Optimized",
    "gpuNum": 0,
    "hideHardwareSpecs": false,
    "memoryGiB": 128,
    "name": "ml.r5.4xlarge",
    "vcpuNum": 16
   },
   {
    "_defaultOrder": 43,
    "_isFastLaunch": false,
    "category": "Memory Optimized",
    "gpuNum": 0,
    "hideHardwareSpecs": false,
    "memoryGiB": 256,
    "name": "ml.r5.8xlarge",
    "vcpuNum": 32
   },
   {
    "_defaultOrder": 44,
    "_isFastLaunch": false,
    "category": "Memory Optimized",
    "gpuNum": 0,
    "hideHardwareSpecs": false,
    "memoryGiB": 384,
    "name": "ml.r5.12xlarge",
    "vcpuNum": 48
   },
   {
    "_defaultOrder": 45,
    "_isFastLaunch": false,
    "category": "Memory Optimized",
    "gpuNum": 0,
    "hideHardwareSpecs": false,
    "memoryGiB": 512,
    "name": "ml.r5.16xlarge",
    "vcpuNum": 64
   },
   {
    "_defaultOrder": 46,
    "_isFastLaunch": false,
    "category": "Memory Optimized",
    "gpuNum": 0,
    "hideHardwareSpecs": false,
    "memoryGiB": 768,
    "name": "ml.r5.24xlarge",
    "vcpuNum": 96
   },
   {
    "_defaultOrder": 47,
    "_isFastLaunch": false,
    "category": "Accelerated computing",
    "gpuNum": 1,
    "hideHardwareSpecs": false,
    "memoryGiB": 16,
    "name": "ml.g5.xlarge",
    "vcpuNum": 4
   },
   {
    "_defaultOrder": 48,
    "_isFastLaunch": false,
    "category": "Accelerated computing",
    "gpuNum": 1,
    "hideHardwareSpecs": false,
    "memoryGiB": 32,
    "name": "ml.g5.2xlarge",
    "vcpuNum": 8
   },
   {
    "_defaultOrder": 49,
    "_isFastLaunch": false,
    "category": "Accelerated computing",
    "gpuNum": 1,
    "hideHardwareSpecs": false,
    "memoryGiB": 64,
    "name": "ml.g5.4xlarge",
    "vcpuNum": 16
   },
   {
    "_defaultOrder": 50,
    "_isFastLaunch": false,
    "category": "Accelerated computing",
    "gpuNum": 1,
    "hideHardwareSpecs": false,
    "memoryGiB": 128,
    "name": "ml.g5.8xlarge",
    "vcpuNum": 32
   },
   {
    "_defaultOrder": 51,
    "_isFastLaunch": false,
    "category": "Accelerated computing",
    "gpuNum": 1,
    "hideHardwareSpecs": false,
    "memoryGiB": 256,
    "name": "ml.g5.16xlarge",
    "vcpuNum": 64
   },
   {
    "_defaultOrder": 52,
    "_isFastLaunch": false,
    "category": "Accelerated computing",
    "gpuNum": 4,
    "hideHardwareSpecs": false,
    "memoryGiB": 192,
    "name": "ml.g5.12xlarge",
    "vcpuNum": 48
   },
   {
    "_defaultOrder": 53,
    "_isFastLaunch": false,
    "category": "Accelerated computing",
    "gpuNum": 4,
    "hideHardwareSpecs": false,
    "memoryGiB": 384,
    "name": "ml.g5.24xlarge",
    "vcpuNum": 96
   },
   {
    "_defaultOrder": 54,
    "_isFastLaunch": false,
    "category": "Accelerated computing",
    "gpuNum": 8,
    "hideHardwareSpecs": false,
    "memoryGiB": 768,
    "name": "ml.g5.48xlarge",
    "vcpuNum": 192
   },
   {
    "_defaultOrder": 55,
    "_isFastLaunch": false,
    "category": "Accelerated computing",
    "gpuNum": 8,
    "hideHardwareSpecs": false,
    "memoryGiB": 1152,
    "name": "ml.p4d.24xlarge",
    "vcpuNum": 96
   },
   {
    "_defaultOrder": 56,
    "_isFastLaunch": false,
    "category": "Accelerated computing",
    "gpuNum": 8,
    "hideHardwareSpecs": false,
    "memoryGiB": 1152,
    "name": "ml.p4de.24xlarge",
    "vcpuNum": 96
   },
   {
    "_defaultOrder": 57,
    "_isFastLaunch": false,
    "category": "Accelerated computing",
    "gpuNum": 0,
    "hideHardwareSpecs": false,
    "memoryGiB": 32,
    "name": "ml.trn1.2xlarge",
    "vcpuNum": 8
   },
   {
    "_defaultOrder": 58,
    "_isFastLaunch": false,
    "category": "Accelerated computing",
    "gpuNum": 0,
    "hideHardwareSpecs": false,
    "memoryGiB": 512,
    "name": "ml.trn1.32xlarge",
    "vcpuNum": 128
   },
   {
    "_defaultOrder": 59,
    "_isFastLaunch": false,
    "category": "Accelerated computing",
    "gpuNum": 0,
    "hideHardwareSpecs": false,
    "memoryGiB": 512,
    "name": "ml.trn1n.32xlarge",
    "vcpuNum": 128
   }
  ],
  "instance_type": "ml.m5.2xlarge",
  "kernelspec": {
   "display_name": "Python 3 (ipykernel)",
   "language": "python",
   "name": "python3"
  },
  "language_info": {
   "codemirror_mode": {
    "name": "ipython",
    "version": 3
   },
   "file_extension": ".py",
   "mimetype": "text/x-python",
   "name": "python",
   "nbconvert_exporter": "python",
   "pygments_lexer": "ipython3",
   "version": "3.12.9"
  }
 },
 "nbformat": 4,
 "nbformat_minor": 4
}
